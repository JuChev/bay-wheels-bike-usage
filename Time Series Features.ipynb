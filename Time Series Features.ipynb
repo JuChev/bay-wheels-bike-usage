{
 "cells": [
  {
   "cell_type": "code",
   "execution_count": 1,
   "id": "e64932e9-9656-4324-a82d-cc67b86035d3",
   "metadata": {},
   "outputs": [],
   "source": [
    "import pandas as pd\n",
    "import numpy as np\n",
    "import glob\n",
    "import os\n",
    "\n",
    "from datetime import time, datetime\n",
    "from pandas.tseries.holiday import USFederalHolidayCalendar\n",
    "from pandas.tseries.offsets import CustomBusinessDay"
   ]
  },
  {
   "cell_type": "markdown",
   "id": "fe6e035f-8f7b-46a6-9fc7-813800c88763",
   "metadata": {},
   "source": [
    "# Data Imports"
   ]
  },
  {
   "cell_type": "code",
   "execution_count": 13,
   "id": "7723802a-6b38-49c8-a01e-f6851bd3741f",
   "metadata": {},
   "outputs": [],
   "source": [
    "'''Run this cell to produce a concatenation of csvs in the directory in reverse order'''\n",
    "# all_files = glob.glob(os.path.join('', '*.csv'))\n",
    "# dtypes = {'user_type':str, 'bike_share_for_all_trip':str, 'rental_access_method':str}\n",
    "\n",
    "# data = pd.concat((pd.read_csv(f, dtype=dtypes).iloc[::-1].reset_index(drop=True) for f in all_files), ignore_index=True)"
   ]
  },
  {
   "cell_type": "code",
   "execution_count": 2,
   "id": "ab773ef5-e898-4804-b12f-0c1059ab3eba",
   "metadata": {},
   "outputs": [
    {
     "name": "stderr",
     "output_type": "stream",
     "text": [
      "C:\\Users\\Newton\\anaconda3\\lib\\site-packages\\IPython\\core\\interactiveshell.py:3444: DtypeWarning: Columns (2) have mixed types.Specify dtype option on import or set low_memory=False.\n",
      "  exec(code_obj, self.user_global_ns, self.user_ns)\n"
     ]
    },
    {
     "data": {
      "text/html": [
       "<div>\n",
       "<style scoped>\n",
       "    .dataframe tbody tr th:only-of-type {\n",
       "        vertical-align: middle;\n",
       "    }\n",
       "\n",
       "    .dataframe tbody tr th {\n",
       "        vertical-align: top;\n",
       "    }\n",
       "\n",
       "    .dataframe thead th {\n",
       "        text-align: right;\n",
       "    }\n",
       "</style>\n",
       "<table border=\"1\" class=\"dataframe\">\n",
       "  <thead>\n",
       "    <tr style=\"text-align: right;\">\n",
       "      <th></th>\n",
       "      <th>Unnamed: 0</th>\n",
       "      <th>Unnamed: 0.1</th>\n",
       "      <th>zipcode</th>\n",
       "      <th>datetime</th>\n",
       "      <th>change</th>\n",
       "      <th>rental</th>\n",
       "      <th>date</th>\n",
       "      <th>time</th>\n",
       "      <th>parking_size</th>\n",
       "      <th>num_of_muni</th>\n",
       "      <th>temp</th>\n",
       "      <th>dwpt</th>\n",
       "      <th>rhum</th>\n",
       "      <th>prcp</th>\n",
       "      <th>wdir</th>\n",
       "      <th>wspd</th>\n",
       "      <th>pres</th>\n",
       "    </tr>\n",
       "  </thead>\n",
       "  <tbody>\n",
       "    <tr>\n",
       "      <th>0</th>\n",
       "      <td>0</td>\n",
       "      <td>0</td>\n",
       "      <td>94114</td>\n",
       "      <td>2018-01-31_22</td>\n",
       "      <td>-1</td>\n",
       "      <td>4</td>\n",
       "      <td>2018-01-31</td>\n",
       "      <td>22</td>\n",
       "      <td>44.012042</td>\n",
       "      <td>156</td>\n",
       "      <td>12.2</td>\n",
       "      <td>8.9</td>\n",
       "      <td>80</td>\n",
       "      <td>0.0</td>\n",
       "      <td>272.0</td>\n",
       "      <td>5.4</td>\n",
       "      <td>1018.0</td>\n",
       "    </tr>\n",
       "    <tr>\n",
       "      <th>1</th>\n",
       "      <td>1</td>\n",
       "      <td>1</td>\n",
       "      <td>94114</td>\n",
       "      <td>2018-01-31_23</td>\n",
       "      <td>-1</td>\n",
       "      <td>1</td>\n",
       "      <td>2018-01-31</td>\n",
       "      <td>23</td>\n",
       "      <td>44.012042</td>\n",
       "      <td>156</td>\n",
       "      <td>12.8</td>\n",
       "      <td>8.9</td>\n",
       "      <td>77</td>\n",
       "      <td>0.0</td>\n",
       "      <td>0.0</td>\n",
       "      <td>5.4</td>\n",
       "      <td>1018.3</td>\n",
       "    </tr>\n",
       "    <tr>\n",
       "      <th>2</th>\n",
       "      <td>2</td>\n",
       "      <td>2</td>\n",
       "      <td>94114</td>\n",
       "      <td>2018-01-31_21</td>\n",
       "      <td>2</td>\n",
       "      <td>3</td>\n",
       "      <td>2018-01-31</td>\n",
       "      <td>21</td>\n",
       "      <td>44.012042</td>\n",
       "      <td>156</td>\n",
       "      <td>12.2</td>\n",
       "      <td>8.3</td>\n",
       "      <td>77</td>\n",
       "      <td>0.0</td>\n",
       "      <td>280.0</td>\n",
       "      <td>18.4</td>\n",
       "      <td>1017.8</td>\n",
       "    </tr>\n",
       "    <tr>\n",
       "      <th>3</th>\n",
       "      <td>3</td>\n",
       "      <td>3</td>\n",
       "      <td>94114</td>\n",
       "      <td>2018-01-31_20</td>\n",
       "      <td>2</td>\n",
       "      <td>1</td>\n",
       "      <td>2018-01-31</td>\n",
       "      <td>20</td>\n",
       "      <td>44.012042</td>\n",
       "      <td>156</td>\n",
       "      <td>13.3</td>\n",
       "      <td>8.4</td>\n",
       "      <td>72</td>\n",
       "      <td>0.0</td>\n",
       "      <td>280.0</td>\n",
       "      <td>11.2</td>\n",
       "      <td>1017.3</td>\n",
       "    </tr>\n",
       "    <tr>\n",
       "      <th>4</th>\n",
       "      <td>4</td>\n",
       "      <td>4</td>\n",
       "      <td>94114</td>\n",
       "      <td>2018-01-31_19</td>\n",
       "      <td>1</td>\n",
       "      <td>7</td>\n",
       "      <td>2018-01-31</td>\n",
       "      <td>19</td>\n",
       "      <td>44.012042</td>\n",
       "      <td>156</td>\n",
       "      <td>13.9</td>\n",
       "      <td>8.3</td>\n",
       "      <td>69</td>\n",
       "      <td>0.0</td>\n",
       "      <td>280.0</td>\n",
       "      <td>13.0</td>\n",
       "      <td>1017.2</td>\n",
       "    </tr>\n",
       "  </tbody>\n",
       "</table>\n",
       "</div>"
      ],
      "text/plain": [
       "   Unnamed: 0  Unnamed: 0.1 zipcode       datetime  change  rental  \\\n",
       "0           0             0   94114  2018-01-31_22      -1       4   \n",
       "1           1             1   94114  2018-01-31_23      -1       1   \n",
       "2           2             2   94114  2018-01-31_21       2       3   \n",
       "3           3             3   94114  2018-01-31_20       2       1   \n",
       "4           4             4   94114  2018-01-31_19       1       7   \n",
       "\n",
       "         date  time  parking_size  num_of_muni  temp  dwpt  rhum  prcp   wdir  \\\n",
       "0  2018-01-31    22     44.012042          156  12.2   8.9    80   0.0  272.0   \n",
       "1  2018-01-31    23     44.012042          156  12.8   8.9    77   0.0    0.0   \n",
       "2  2018-01-31    21     44.012042          156  12.2   8.3    77   0.0  280.0   \n",
       "3  2018-01-31    20     44.012042          156  13.3   8.4    72   0.0  280.0   \n",
       "4  2018-01-31    19     44.012042          156  13.9   8.3    69   0.0  280.0   \n",
       "\n",
       "   wspd    pres  \n",
       "0   5.4  1018.0  \n",
       "1   5.4  1018.3  \n",
       "2  18.4  1017.8  \n",
       "3  11.2  1017.3  \n",
       "4  13.0  1017.2  "
      ]
     },
     "execution_count": 2,
     "metadata": {},
     "output_type": "execute_result"
    }
   ],
   "source": [
    "data = pd.read_csv('aggregated_dataset_updated.csv')\n",
    "data.head()"
   ]
  },
  {
   "cell_type": "markdown",
   "id": "9be6a67f-e79d-4553-b849-2301939a0cee",
   "metadata": {},
   "source": [
    "# Producing Time Series Data"
   ]
  },
  {
   "cell_type": "code",
   "execution_count": 3,
   "id": "5fb0e6e2-aff0-4b09-ac95-5b388fa8bddb",
   "metadata": {},
   "outputs": [],
   "source": [
    "data['date_hour'] = pd.to_datetime(data['datetime'], format='%Y-%m-%d_%H')"
   ]
  },
  {
   "cell_type": "code",
   "execution_count": 4,
   "id": "5744ab25-5ba5-4e3f-89a5-34d251129cc7",
   "metadata": {},
   "outputs": [],
   "source": [
    "us_bd = CustomBusinessDay(calendar=USFederalHolidayCalendar())"
   ]
  },
  {
   "cell_type": "code",
   "execution_count": 5,
   "id": "bec72ebe-cbf2-42f7-ae17-a7897bf36f06",
   "metadata": {},
   "outputs": [],
   "source": [
    "data['Business Day'] = (data['date_hour'].dt.date.isin(pd.date_range(start='2018-01-01',end='2020-01-01', freq=us_bd).date))*1"
   ]
  },
  {
   "cell_type": "code",
   "execution_count": 6,
   "id": "3c32b39b-dee8-425b-9687-b0efee6511c2",
   "metadata": {},
   "outputs": [],
   "source": [
    "data['Holiday'] = (data['date_hour'].dt.date.isin(USFederalHolidayCalendar().holidays(start='2018-01-01',end='2020-01-01').date))*1"
   ]
  },
  {
   "cell_type": "code",
   "execution_count": 7,
   "id": "4e514e0c-c10d-49e6-a218-1e1e8223c09e",
   "metadata": {},
   "outputs": [],
   "source": [
    "day_name = ['Monday', 'Tuesday', 'Wednesday', 'Thursday', 'Friday', 'Saturday']\n",
    "day_name = dict(enumerate(day_name))\n",
    "month_name = ['January', 'February', 'March', 'April', 'May', 'June', 'July', 'August', 'September', 'October', 'November']\n",
    "month_name = dict(enumerate(month_name))\n",
    "season_name = ['Spring', 'Summer', 'Fall']\n",
    "season_name = dict(enumerate(season_name))"
   ]
  },
  {
   "cell_type": "code",
   "execution_count": 8,
   "id": "1511a35b-9724-4ae2-aaba-44246951fc52",
   "metadata": {},
   "outputs": [],
   "source": [
    "for i in range(3):\n",
    "    data[season_name[i]] = (data['date_hour'].dt.month%12 // 3 + 1 == i)*1\n",
    "    \n",
    "for i in range(6):\n",
    "    data[day_name[i]] = (data['date_hour'].dt.dayofweek == i)*1\n",
    "    \n",
    "for i in range(11):\n",
    "    data[month_name[i]] = (data['date_hour'].dt.month == i+1)*1"
   ]
  },
  {
   "cell_type": "code",
   "execution_count": 9,
   "id": "c271e69b-be81-45c9-9cb2-76103c4ad379",
   "metadata": {},
   "outputs": [],
   "source": [
    "data['Hour'] = data['date_hour'].dt.hour"
   ]
  },
  {
   "cell_type": "code",
   "execution_count": 10,
   "id": "9dffd12a-4977-4f2a-8cfe-8b37c2277a24",
   "metadata": {},
   "outputs": [],
   "source": [
    "data['Days Passed'] = (data['date_hour'] - pd.to_datetime('2018-01-01')).dt.days"
   ]
  },
  {
   "cell_type": "code",
   "execution_count": 11,
   "id": "718c4e04-f33f-456c-b096-e2059d824fb1",
   "metadata": {},
   "outputs": [],
   "source": [
    "data['Commute In'] = ((data['date_hour'].dt.time >= time(8,0)) & (data['date_hour'].dt.time <= time(9,0)) & (data['Business Day']))*1"
   ]
  },
  {
   "cell_type": "code",
   "execution_count": 12,
   "id": "85bb1d2c-e790-4f41-a56c-edff37fd6d96",
   "metadata": {},
   "outputs": [],
   "source": [
    "data['Commute Out'] = ((data['date_hour'].dt.time >= time(16,0)) & (data['date_hour'].dt.time <= time(18,0)) & (data['Business Day']))*1"
   ]
  },
  {
   "cell_type": "code",
   "execution_count": 14,
   "id": "7f5c70fd-2ffd-4620-a859-54cdd4fb0150",
   "metadata": {},
   "outputs": [],
   "source": [
    "data.drop(columns='date_hour',inplace=True)"
   ]
  },
  {
   "cell_type": "code",
   "execution_count": 15,
   "id": "4ad08110-1fc7-4b4d-a048-8a3d529b9b31",
   "metadata": {},
   "outputs": [],
   "source": [
    "data.to_csv('aggregated_dataset_updated_with_time.csv')"
   ]
  }
 ],
 "metadata": {
  "kernelspec": {
   "display_name": "Python 3 (ipykernel)",
   "language": "python",
   "name": "python3"
  },
  "language_info": {
   "codemirror_mode": {
    "name": "ipython",
    "version": 3
   },
   "file_extension": ".py",
   "mimetype": "text/x-python",
   "name": "python",
   "nbconvert_exporter": "python",
   "pygments_lexer": "ipython3",
   "version": "3.7.11"
  }
 },
 "nbformat": 4,
 "nbformat_minor": 5
}
