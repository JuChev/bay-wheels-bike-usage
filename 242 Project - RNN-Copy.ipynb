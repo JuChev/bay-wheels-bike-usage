{
 "cells": [
  {
   "cell_type": "code",
   "execution_count": null,
   "id": "7aeba100-0dd9-4dcf-a513-1d126bef4d64",
   "metadata": {},
   "outputs": [],
   "source": [
    "import pandas as pd\n",
    "import matplotlib.pyplot as plt\n",
    "import tensorflow as tf\n",
    "from tensorflow import keras\n",
    "import numpy as np\n",
    "import statsmodels.api as sm\n",
    "import matplotlib.dates as mdates"
   ]
  },
  {
   "cell_type": "markdown",
   "id": "f3fe5e38-cb0e-4a69-991a-392bee6d87a8",
   "metadata": {},
   "source": [
    "# Data Formatting and Preprocessing"
   ]
  },
  {
   "cell_type": "code",
   "execution_count": null,
   "id": "481d9c8e-214a-4b9b-8b23-ec21e0ffefa7",
   "metadata": {},
   "outputs": [],
   "source": [
    "data = pd.read_csv('aggregated_dataset_updated_with_time_v2.csv',dtype={'zipcode':'str'})\n",
    "data = data.set_index('datetime').drop(columns=['zipcode', 'datetime.1', 'change', 'date', 'parking_size', 'num_of_muni'])\n",
    "data.sort_index(inplace=True)"
   ]
  },
  {
   "cell_type": "code",
   "execution_count": null,
   "id": "679649c8-10fe-43a2-9a59-059c17b078f9",
   "metadata": {},
   "outputs": [],
   "source": [
    "data.head()"
   ]
  },
  {
   "cell_type": "code",
   "execution_count": null,
   "id": "ca3b89ae-bfc6-4d8f-95b8-d6a28363dd96",
   "metadata": {},
   "outputs": [],
   "source": [
    "agg_dict = {}\n",
    "agg_dict['rental'] = 'sum'\n",
    "for i in range(1, 8):\n",
    "    agg_dict[data.columns[i]] = 'mean'\n",
    "\n",
    "for i in range(8, len(data.columns)):\n",
    "    agg_dict[data.columns[i]] = 'max'"
   ]
  },
  {
   "cell_type": "code",
   "execution_count": null,
   "id": "0c4c679e-75d0-42a8-b653-717857bb8289",
   "metadata": {},
   "outputs": [],
   "source": [
    "agg_data = data.groupby('datetime').agg(agg_dict)\n",
    "agg_data = agg_data[:'2019-07-01']\n",
    "agg_data['pres'].fillna(method='ffill',inplace=True)\n",
    "agg_data.drop(columns='Days Passed', inplace=True)\n",
    "hours = agg_data['Hour']\n",
    "agg_data.drop(columns='Hour', inplace=True)\n",
    "agg_data['Hour'] = hours"
   ]
  },
  {
   "cell_type": "code",
   "execution_count": null,
   "id": "0cd70c52-22f5-4c19-bc48-b14c10f1f3e4",
   "metadata": {},
   "outputs": [],
   "source": [
    "cont_features = agg_data.columns[:9]\n",
    "clas_features = agg_data.columns[9:11].append(agg_data.columns[14:20])\n",
    "cont_data = agg_data[cont_features]\n",
    "clas_data = agg_data[clas_features]"
   ]
  },
  {
   "cell_type": "code",
   "execution_count": null,
   "id": "5c256368-9919-4853-953a-21bc9ec377ff",
   "metadata": {},
   "outputs": [],
   "source": [
    "train_mean = cont_data[cont_data.index < '2019-05-01 00:00:00'].mean()\n",
    "train_std = cont_data[cont_data.index < '2019-05-01 00:00:00'].std()\n",
    "feature_data = ((cont_data - train_mean)/train_std).join(clas_data)"
   ]
  },
  {
   "cell_type": "code",
   "execution_count": null,
   "id": "34feb371-e1f4-46bd-b4ff-7cc378318124",
   "metadata": {},
   "outputs": [],
   "source": [
    "train_data = feature_data[feature_data.index < '2019-05-01 00:00:00']\n",
    "val_data = feature_data[(feature_data.index >= '2019-05-01 00:00:00')&(feature_data.index < '2019-06-01 00:00:00')]\n",
    "test_data = feature_data[feature_data.index >= '2019-06-01 00:00:00']"
   ]
  },
  {
   "cell_type": "code",
   "execution_count": null,
   "id": "0de5edd1-87f7-465d-8ce6-e948299ffcd8",
   "metadata": {},
   "outputs": [],
   "source": [
    "n = agg_data.shape[0]\n",
    "split = 0.8\n",
    "step = 1\n",
    "past = 120\n",
    "future = 1\n",
    "learning_rate = 0.001\n",
    "batch_size = 64\n",
    "epochs = 40\n",
    "train_split = agg_data.index.get_loc('2019-03-20 00:00:00')\n",
    "val_split = agg_data.index.get_loc('2019-05-06 00:00:00')"
   ]
  },
  {
   "cell_type": "code",
   "execution_count": null,
   "id": "3ce2bbdf-84f8-48c3-82ac-72dea596d2f0",
   "metadata": {},
   "outputs": [],
   "source": [
    "train_mean = cont_data[cont_data.index < '2019-03-20 00:00:00'].mean()\n",
    "train_std = cont_data[cont_data.index < '2019-03-20 00:00:00'].std()\n",
    "feature_data = ((cont_data - train_mean)/train_std).join(clas_data)"
   ]
  },
  {
   "cell_type": "code",
   "execution_count": null,
   "id": "83bdbe05-6056-40e1-ad52-9273b221a501",
   "metadata": {},
   "outputs": [],
   "source": [
    "train_data = feature_data[feature_data.index < '2019-03-20 00:00:00']\n",
    "val_data = feature_data[(feature_data.index >= '2019-03-20 00:00:00')&(feature_data.index < '2019-05-06 00:00:00')]\n",
    "test_data = feature_data[(feature_data.index >= '2019-05-06 00:00:00')&(feature_data.index < '2019-06-01 00:00:00')]"
   ]
  },
  {
   "cell_type": "markdown",
   "id": "b58d94cd-868f-4e2c-8809-831ebf36ce12",
   "metadata": {},
   "source": [
    "# Training Data"
   ]
  },
  {
   "cell_type": "code",
   "execution_count": null,
   "id": "26d025ce-a7d8-4494-b45a-ee4e5d0fbc33",
   "metadata": {},
   "outputs": [],
   "source": [
    "start = past + future\n",
    "end = train_split\n",
    "\n",
    "x_train = train_data\n",
    "y_train = feature_data.iloc[start:end]['rental']\n",
    "\n",
    "sequence_length = int(past / step)"
   ]
  },
  {
   "cell_type": "code",
   "execution_count": null,
   "id": "23b00ec1-6789-463b-9a15-a8382cc504a6",
   "metadata": {},
   "outputs": [],
   "source": [
    "dataset_train = keras.preprocessing.timeseries_dataset_from_array(\n",
    "    x_train,\n",
    "    y_train,\n",
    "    sequence_length=sequence_length,\n",
    "    batch_size=batch_size,\n",
    ")"
   ]
  },
  {
   "cell_type": "markdown",
   "id": "d2c94fa7-1bc0-4514-9a9e-ba389ebb8d85",
   "metadata": {},
   "source": [
    "# Val and Test Data"
   ]
  },
  {
   "cell_type": "code",
   "execution_count": null,
   "id": "ed289f93-acac-442f-bacc-1dde8672d149",
   "metadata": {},
   "outputs": [],
   "source": [
    "x_end = len(val_data) - future\n",
    "\n",
    "label_start = train_split + past + future\n",
    "\n",
    "x_val = val_data.iloc[:x_end].values\n",
    "y_val = feature_data.iloc[label_start:]['rental']\n",
    "\n",
    "dataset_val = keras.preprocessing.timeseries_dataset_from_array(\n",
    "    x_val,\n",
    "    y_val,\n",
    "    sequence_length=sequence_length,\n",
    "    batch_size=batch_size,\n",
    ")\n",
    "\n",
    "\n",
    "for batch in dataset_train.take(1):\n",
    "    inputs, targets = batch\n",
    "\n",
    "print(\"Input shape:\", inputs.numpy().shape)\n",
    "print(\"Target shape:\", targets.numpy().shape)\n"
   ]
  },
  {
   "cell_type": "code",
   "execution_count": null,
   "id": "7a7c06ad-cd97-42a5-b37a-d38d620d5bd8",
   "metadata": {},
   "outputs": [],
   "source": [
    "x_test_end = len(test_data) - future\n",
    "\n",
    "label_test_start = val_split + past + future\n",
    "\n",
    "x_test = test_data.iloc[:x_test_end].values\n",
    "y_test = feature_data.iloc[label_test_start:]['rental']\n",
    "\n",
    "dataset_test = keras.preprocessing.timeseries_dataset_from_array(\n",
    "    x_test,\n",
    "    y_test,\n",
    "    sequence_length=sequence_length,\n",
    "    batch_size=batch_size,\n",
    ")"
   ]
  },
  {
   "cell_type": "markdown",
   "id": "611b2e73-ed8d-4426-b1c8-e7cea9ff7a6d",
   "metadata": {},
   "source": [
    "# Training"
   ]
  },
  {
   "cell_type": "code",
   "execution_count": null,
   "id": "6f749704-5d04-4671-9520-35d151884c3e",
   "metadata": {},
   "outputs": [],
   "source": [
    "np.random.seed(42)\n",
    "inputs = keras.layers.Input(shape=(inputs.shape[1], inputs.shape[2]))\n",
    "gru_1 = keras.layers.GRU(32, return_sequences=True)(inputs)\n",
    "gru_out = keras.layers.GRU(16)(gru_1)\n",
    "outputs = keras.layers.Dense(1)(gru_out)\n",
    "\n",
    "model = keras.Model(inputs=inputs, outputs=outputs)\n",
    "model.compile(optimizer=keras.optimizers.Adam(learning_rate=learning_rate), loss=\"mse\")\n",
    "model.summary()"
   ]
  },
  {
   "cell_type": "code",
   "execution_count": null,
   "id": "1fae9778-a3f0-4c95-afe8-9a003f63403f",
   "metadata": {},
   "outputs": [],
   "source": [
    "path_checkpoint = \"model_checkpoint_1.h5\"\n",
    "es_callback = keras.callbacks.EarlyStopping(monitor=\"val_loss\", min_delta=0, patience=4)\n",
    "\n",
    "modelckpt_callback = keras.callbacks.ModelCheckpoint(\n",
    "    monitor=\"val_loss\",\n",
    "    filepath=path_checkpoint,\n",
    "    verbose=1,\n",
    "    save_weights_only=True,\n",
    "    save_best_only=True,\n",
    ")\n",
    "\n",
    "history = model.fit(\n",
    "    dataset_train,\n",
    "    epochs=epochs,\n",
    "    validation_data=dataset_val,\n",
    "    callbacks=[es_callback, modelckpt_callback],\n",
    ")"
   ]
  },
  {
   "cell_type": "code",
   "execution_count": null,
   "id": "7982ab73-e0bc-4f1f-9439-7bf20d5e8a9e",
   "metadata": {},
   "outputs": [],
   "source": [
    "mse_val_loss = []\n",
    "mse_test_loss = []\n",
    "mse_train_loss = []"
   ]
  },
  {
   "cell_type": "code",
   "execution_count": null,
   "id": "bf07a8f3-3c23-4247-a6a2-ac31260d53f0",
   "metadata": {},
   "outputs": [],
   "source": [
    "mse_val_loss.append(model.evaluate(dataset_val))\n",
    "mse_test_loss.append(model.evaluate(dataset_test))\n",
    "mse_train_loss.append(model.evaluate(dataset_train))"
   ]
  },
  {
   "cell_type": "code",
   "execution_count": null,
   "id": "78762868-d134-4db2-b0e9-4ee4e2ba528a",
   "metadata": {},
   "outputs": [],
   "source": [
    "predictions = model.predict(dataset_test)"
   ]
  },
  {
   "cell_type": "code",
   "execution_count": null,
   "id": "d66f8f19-2078-44b3-814a-59b70049e903",
   "metadata": {},
   "outputs": [],
   "source": [
    "y_data = y_test.loc['2019-05-11 00:00:00':'2019-06-01 00:00:00']\n",
    "dates = pd.DatetimeIndex(y_test.loc['2019-05-11 00:00:00':'2019-06-01 00:00:00'].index)\n",
    "\n",
    "plt.figure(figsize=(24,6))\n",
    "plt.plot(dates, y_data*train_std['rental']+train_mean['rental'], label='True')\n",
    "plt.plot(dates, predictions*train_std['rental']+train_mean['rental'], label='Pred')\n",
    "plt.title('RNN Predictions of Rentals per hour', fontsize=24)\n",
    "plt.xlabel('Date and hour', fontsize=20)\n",
    "plt.ylabel('Rentals', fontsize=20)\n",
    "plt.xticks(fontsize = 14)\n",
    "plt.yticks(fontsize = 14)\n",
    "plt.legend(prop={'size': 16})\n",
    "plt.savefig('rnn_pred.png', format='png', bbox_inches='tight')\n",
    "\n",
    "plt.show()"
   ]
  },
  {
   "cell_type": "code",
   "execution_count": null,
   "id": "3bbaf8ec-a2ae-46f8-9a46-e77acb8ca2fb",
   "metadata": {},
   "outputs": [],
   "source": [
    "def Rsquared_from_mse(mse, test=True):\n",
    "    if test:\n",
    "        n = y_test.shape[0]\n",
    "        baseline = np.sum((y_test-y_train.mean())**2)\n",
    "    else:\n",
    "        n = y_train.shape[0]\n",
    "        baseline = np.sum((y_train-y_train.mean())**2)\n",
    "        \n",
    "    Rsquared = 1 - n*mse/baseline\n",
    "    \n",
    "    return Rsquared"
   ]
  },
  {
   "cell_type": "code",
   "execution_count": null,
   "id": "65edc8cd-f9bc-4236-ac9b-b6d7ed58f09b",
   "metadata": {},
   "outputs": [],
   "source": [
    "r2_df = pd.DataFrame({'R2 rental':Rsquared_from_mse(mse_train_loss[-1], test=False), 'OSR2 rental':Rsquared_from_mse(mse_test_loss[-1])}, index=['RNN'])"
   ]
  }
 ],
 "metadata": {
  "kernelspec": {
   "display_name": "Python 3 (ipykernel)",
   "language": "python",
   "name": "python3"
  },
  "language_info": {
   "codemirror_mode": {
    "name": "ipython",
    "version": 3
   },
   "file_extension": ".py",
   "mimetype": "text/x-python",
   "name": "python",
   "nbconvert_exporter": "python",
   "pygments_lexer": "ipython3",
   "version": "3.7.11"
  }
 },
 "nbformat": 4,
 "nbformat_minor": 5
}
