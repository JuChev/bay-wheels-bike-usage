{
 "cells": [
  {
   "cell_type": "code",
   "execution_count": 157,
   "id": "e64932e9-9656-4324-a82d-cc67b86035d3",
   "metadata": {},
   "outputs": [],
   "source": [
    "import pandas as pd\n",
    "import numpy as np\n",
    "import glob\n",
    "import os\n",
    "\n",
    "from datetime import time\n",
    "from pandas.tseries.holiday import USFederalHolidayCalendar\n",
    "from pandas.tseries.offsets import CustomBusinessDay"
   ]
  },
  {
   "cell_type": "code",
   "execution_count": 177,
   "id": "7723802a-6b38-49c8-a01e-f6851bd3741f",
   "metadata": {},
   "outputs": [],
   "source": [
    "all_files = glob.glob(os.path.join('', '*.csv'))\n",
    "dtypes = {'user_type':str, 'bike_share_for_all_trip':str, 'rental_access_method':str}\n",
    "\n",
    "data = pd.concat((pd.read_csv(f, dtype=dtypes) for f in all_files), ignore_index=True)"
   ]
  },
  {
   "cell_type": "code",
   "execution_count": 179,
   "id": "37a1b1b4-27dd-42fe-8196-23e0d50f9e4b",
   "metadata": {},
   "outputs": [
    {
     "data": {
      "text/html": [
       "<div>\n",
       "<style scoped>\n",
       "    .dataframe tbody tr th:only-of-type {\n",
       "        vertical-align: middle;\n",
       "    }\n",
       "\n",
       "    .dataframe tbody tr th {\n",
       "        vertical-align: top;\n",
       "    }\n",
       "\n",
       "    .dataframe thead th {\n",
       "        text-align: right;\n",
       "    }\n",
       "</style>\n",
       "<table border=\"1\" class=\"dataframe\">\n",
       "  <thead>\n",
       "    <tr style=\"text-align: right;\">\n",
       "      <th></th>\n",
       "      <th>duration_sec</th>\n",
       "      <th>start_time</th>\n",
       "      <th>end_time</th>\n",
       "      <th>start_station_id</th>\n",
       "      <th>start_station_name</th>\n",
       "      <th>start_station_latitude</th>\n",
       "      <th>start_station_longitude</th>\n",
       "      <th>end_station_id</th>\n",
       "      <th>end_station_name</th>\n",
       "      <th>end_station_latitude</th>\n",
       "      <th>end_station_longitude</th>\n",
       "      <th>bike_id</th>\n",
       "      <th>user_type</th>\n",
       "      <th>bike_share_for_all_trip</th>\n",
       "      <th>rental_access_method</th>\n",
       "    </tr>\n",
       "  </thead>\n",
       "  <tbody>\n",
       "    <tr>\n",
       "      <th>0</th>\n",
       "      <td>75284</td>\n",
       "      <td>2018-01-31 22:52:35.2390</td>\n",
       "      <td>2018-02-01 19:47:19.8240</td>\n",
       "      <td>120.0</td>\n",
       "      <td>Mission Dolores Park</td>\n",
       "      <td>37.761420</td>\n",
       "      <td>-122.426435</td>\n",
       "      <td>285.0</td>\n",
       "      <td>Webster St at O'Farrell St</td>\n",
       "      <td>37.783521</td>\n",
       "      <td>-122.431158</td>\n",
       "      <td>2765</td>\n",
       "      <td>Subscriber</td>\n",
       "      <td>No</td>\n",
       "      <td>NaN</td>\n",
       "    </tr>\n",
       "    <tr>\n",
       "      <th>1</th>\n",
       "      <td>85422</td>\n",
       "      <td>2018-01-31 16:13:34.3510</td>\n",
       "      <td>2018-02-01 15:57:17.3100</td>\n",
       "      <td>15.0</td>\n",
       "      <td>San Francisco Ferry Building (Harry Bridges Pl...</td>\n",
       "      <td>37.795392</td>\n",
       "      <td>-122.394203</td>\n",
       "      <td>15.0</td>\n",
       "      <td>San Francisco Ferry Building (Harry Bridges Pl...</td>\n",
       "      <td>37.795392</td>\n",
       "      <td>-122.394203</td>\n",
       "      <td>2815</td>\n",
       "      <td>Customer</td>\n",
       "      <td>No</td>\n",
       "      <td>NaN</td>\n",
       "    </tr>\n",
       "    <tr>\n",
       "      <th>2</th>\n",
       "      <td>71576</td>\n",
       "      <td>2018-01-31 14:23:55.8890</td>\n",
       "      <td>2018-02-01 10:16:52.1160</td>\n",
       "      <td>304.0</td>\n",
       "      <td>Jackson St at 5th St</td>\n",
       "      <td>37.348759</td>\n",
       "      <td>-121.894798</td>\n",
       "      <td>296.0</td>\n",
       "      <td>5th St at Virginia St</td>\n",
       "      <td>37.325998</td>\n",
       "      <td>-121.877120</td>\n",
       "      <td>3039</td>\n",
       "      <td>Customer</td>\n",
       "      <td>No</td>\n",
       "      <td>NaN</td>\n",
       "    </tr>\n",
       "    <tr>\n",
       "      <th>3</th>\n",
       "      <td>61076</td>\n",
       "      <td>2018-01-31 14:53:23.5620</td>\n",
       "      <td>2018-02-01 07:51:20.5000</td>\n",
       "      <td>75.0</td>\n",
       "      <td>Market St at Franklin St</td>\n",
       "      <td>37.773793</td>\n",
       "      <td>-122.421239</td>\n",
       "      <td>47.0</td>\n",
       "      <td>4th St at Harrison St</td>\n",
       "      <td>37.780955</td>\n",
       "      <td>-122.399749</td>\n",
       "      <td>321</td>\n",
       "      <td>Customer</td>\n",
       "      <td>No</td>\n",
       "      <td>NaN</td>\n",
       "    </tr>\n",
       "    <tr>\n",
       "      <th>4</th>\n",
       "      <td>39966</td>\n",
       "      <td>2018-01-31 19:52:24.6670</td>\n",
       "      <td>2018-02-01 06:58:31.0530</td>\n",
       "      <td>74.0</td>\n",
       "      <td>Laguna St at Hayes St</td>\n",
       "      <td>37.776435</td>\n",
       "      <td>-122.426244</td>\n",
       "      <td>19.0</td>\n",
       "      <td>Post St at Kearny St</td>\n",
       "      <td>37.788975</td>\n",
       "      <td>-122.403452</td>\n",
       "      <td>617</td>\n",
       "      <td>Subscriber</td>\n",
       "      <td>No</td>\n",
       "      <td>NaN</td>\n",
       "    </tr>\n",
       "  </tbody>\n",
       "</table>\n",
       "</div>"
      ],
      "text/plain": [
       "   duration_sec                start_time                  end_time  \\\n",
       "0         75284  2018-01-31 22:52:35.2390  2018-02-01 19:47:19.8240   \n",
       "1         85422  2018-01-31 16:13:34.3510  2018-02-01 15:57:17.3100   \n",
       "2         71576  2018-01-31 14:23:55.8890  2018-02-01 10:16:52.1160   \n",
       "3         61076  2018-01-31 14:53:23.5620  2018-02-01 07:51:20.5000   \n",
       "4         39966  2018-01-31 19:52:24.6670  2018-02-01 06:58:31.0530   \n",
       "\n",
       "   start_station_id                                 start_station_name  \\\n",
       "0             120.0                               Mission Dolores Park   \n",
       "1              15.0  San Francisco Ferry Building (Harry Bridges Pl...   \n",
       "2             304.0                               Jackson St at 5th St   \n",
       "3              75.0                           Market St at Franklin St   \n",
       "4              74.0                              Laguna St at Hayes St   \n",
       "\n",
       "   start_station_latitude  start_station_longitude  end_station_id  \\\n",
       "0               37.761420              -122.426435           285.0   \n",
       "1               37.795392              -122.394203            15.0   \n",
       "2               37.348759              -121.894798           296.0   \n",
       "3               37.773793              -122.421239            47.0   \n",
       "4               37.776435              -122.426244            19.0   \n",
       "\n",
       "                                    end_station_name  end_station_latitude  \\\n",
       "0                         Webster St at O'Farrell St             37.783521   \n",
       "1  San Francisco Ferry Building (Harry Bridges Pl...             37.795392   \n",
       "2                              5th St at Virginia St             37.325998   \n",
       "3                              4th St at Harrison St             37.780955   \n",
       "4                               Post St at Kearny St             37.788975   \n",
       "\n",
       "   end_station_longitude  bike_id   user_type bike_share_for_all_trip  \\\n",
       "0            -122.431158     2765  Subscriber                      No   \n",
       "1            -122.394203     2815    Customer                      No   \n",
       "2            -121.877120     3039    Customer                      No   \n",
       "3            -122.399749      321    Customer                      No   \n",
       "4            -122.403452      617  Subscriber                      No   \n",
       "\n",
       "  rental_access_method  \n",
       "0                  NaN  \n",
       "1                  NaN  \n",
       "2                  NaN  \n",
       "3                  NaN  \n",
       "4                  NaN  "
      ]
     },
     "execution_count": 179,
     "metadata": {},
     "output_type": "execute_result"
    }
   ],
   "source": [
    "data.head()"
   ]
  },
  {
   "cell_type": "code",
   "execution_count": 180,
   "id": "e33d5c62-732a-45e7-bcec-5620e18c9e72",
   "metadata": {},
   "outputs": [],
   "source": [
    "us_bd = CustomBusinessDay(calendar=USFederalHolidayCalendar())"
   ]
  },
  {
   "cell_type": "code",
   "execution_count": 181,
   "id": "507227a3-7e2a-4874-bcc3-5ca83e5b0b44",
   "metadata": {},
   "outputs": [],
   "source": [
    "data['start_time'] = pd.to_datetime(data['start_time'])"
   ]
  },
  {
   "cell_type": "code",
   "execution_count": 182,
   "id": "44ff49a9-dc51-49f6-9b24-a0049629f1c9",
   "metadata": {},
   "outputs": [],
   "source": [
    "data['Business Day'] = (data['start_time'].dt.date.isin(pd.date_range(start='2018-01-01',end='2020-01-01', freq=us_bd).date))*1"
   ]
  },
  {
   "cell_type": "code",
   "execution_count": 183,
   "id": "6f627f43-d9be-45de-9068-19feeb24dad9",
   "metadata": {},
   "outputs": [],
   "source": [
    "data['Holiday'] = (data['start_time'].dt.date.isin(USFederalHolidayCalendar().holidays(start='2018-01-01',end='2020-01-01').date))*1"
   ]
  },
  {
   "cell_type": "code",
   "execution_count": 184,
   "id": "143ca9a0-989c-4529-b3bf-eb81ed93b5c4",
   "metadata": {},
   "outputs": [],
   "source": [
    "day_name = ['Monday', 'Tuesday', 'Wednesday', 'Thursday', 'Friday', 'Saturday']\n",
    "day_name = dict(enumerate(day_name))\n",
    "month_name = ['January', 'February', 'March', 'April', 'May', 'June', 'July', 'August', 'September', 'October', 'November']\n",
    "month_name = dict(enumerate(month_name))\n",
    "season_name = ['Spring', 'Summer', 'Fall']\n",
    "season_name = dict(enumerate(season_name))"
   ]
  },
  {
   "cell_type": "code",
   "execution_count": 185,
   "id": "3f463bb1-db69-4c65-8975-d42c5c1e802c",
   "metadata": {},
   "outputs": [],
   "source": [
    "for i in range(3):\n",
    "    data[season_name[i]] = (data['start_time'].dt.month%12 // 3 + 1 == i)*1"
   ]
  },
  {
   "cell_type": "code",
   "execution_count": 186,
   "id": "105eccdb-6469-4257-9e25-3cc5e6e55edb",
   "metadata": {},
   "outputs": [],
   "source": [
    "for i in range(6):\n",
    "    data[day_name[i]] = (data['start_time'].dt.dayofweek == i)*1"
   ]
  },
  {
   "cell_type": "code",
   "execution_count": 187,
   "id": "bc6e3137-54f4-4763-a9ac-5b435ed0ef05",
   "metadata": {},
   "outputs": [],
   "source": [
    "for i in range(11):\n",
    "    data[month_name[i]] = (data['start_time'].dt.month == i+1)*1"
   ]
  },
  {
   "cell_type": "code",
   "execution_count": 188,
   "id": "30e4022c-d981-4960-b30e-4543385d84c5",
   "metadata": {},
   "outputs": [],
   "source": [
    "data['Hour'] = data['start_time'].dt.hour"
   ]
  },
  {
   "cell_type": "code",
   "execution_count": 189,
   "id": "402e7a04-5e0a-4409-ab33-6f0ecdc9a93a",
   "metadata": {},
   "outputs": [],
   "source": [
    "data['Days Passed'] = (data['start_time'] - pd.to_datetime('2018-01-01')).dt.days"
   ]
  },
  {
   "cell_type": "code",
   "execution_count": 190,
   "id": "ee2c17ee-61a9-4cf0-a37f-88cd59418d50",
   "metadata": {},
   "outputs": [],
   "source": [
    "data['Commute In'] = ((data['start_time'].dt.time >= time(7,0)) & (data['start_time'].dt.time <= time(9,30)) & (data['Business Day']))*1"
   ]
  },
  {
   "cell_type": "code",
   "execution_count": 191,
   "id": "62c770ea-78ce-4e59-96f8-91494576106a",
   "metadata": {},
   "outputs": [],
   "source": [
    "data['Commute Out'] = ((data['start_time'].dt.time >= time(16,30)) & (data['start_time'].dt.time <= time(18,30)) & (data['Business Day']))*1"
   ]
  },
  {
   "cell_type": "code",
   "execution_count": null,
   "id": "b1184e3e-0410-448a-95dd-fdcb9eee21b9",
   "metadata": {},
   "outputs": [],
   "source": [
    "# autoregressive features are most easily added after we groupby and/or reindex by time and location, so we can use the shift() method to shift per hour\n",
    "# data['Lag'] = data['Change in Bikes'].shift()"
   ]
  }
 ],
 "metadata": {
  "kernelspec": {
   "display_name": "Python 3 (ipykernel)",
   "language": "python",
   "name": "python3"
  },
  "language_info": {
   "codemirror_mode": {
    "name": "ipython",
    "version": 3
   },
   "file_extension": ".py",
   "mimetype": "text/x-python",
   "name": "python",
   "nbconvert_exporter": "python",
   "pygments_lexer": "ipython3",
   "version": "3.9.7"
  }
 },
 "nbformat": 4,
 "nbformat_minor": 5
}
