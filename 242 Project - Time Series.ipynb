{
 "cells": [
  {
   "cell_type": "code",
   "execution_count": 1,
   "id": "e64932e9-9656-4324-a82d-cc67b86035d3",
   "metadata": {},
   "outputs": [],
   "source": [
    "import pandas as pd\n",
    "import numpy as np\n",
    "import glob\n",
    "import os\n",
    "\n",
    "from datetime import time, datetime\n",
    "from pandas.tseries.holiday import USFederalHolidayCalendar\n",
    "from pandas.tseries.offsets import CustomBusinessDay"
   ]
  },
  {
   "cell_type": "markdown",
   "id": "fe6e035f-8f7b-46a6-9fc7-813800c88763",
   "metadata": {},
   "source": [
    "# Data Imports"
   ]
  },
  {
   "cell_type": "code",
   "execution_count": 13,
   "id": "7723802a-6b38-49c8-a01e-f6851bd3741f",
   "metadata": {},
   "outputs": [],
   "source": [
    "'''Run this cell to produce a concatenation of csvs in the directory in reverse order'''\n",
    "all_files = glob.glob(os.path.join('', '*.csv'))\n",
    "dtypes = {'user_type':str, 'bike_share_for_all_trip':str, 'rental_access_method':str}\n",
    "\n",
    "data = pd.concat((pd.read_csv(f, dtype=dtypes).iloc[::-1].reset_index(drop=True) for f in all_files), ignore_index=True)"
   ]
  },
  {
   "cell_type": "code",
   "execution_count": 29,
   "id": "37a1b1b4-27dd-42fe-8196-23e0d50f9e4b",
   "metadata": {},
   "outputs": [
    {
     "data": {
      "text/html": [
       "<div>\n",
       "<style scoped>\n",
       "    .dataframe tbody tr th:only-of-type {\n",
       "        vertical-align: middle;\n",
       "    }\n",
       "\n",
       "    .dataframe tbody tr th {\n",
       "        vertical-align: top;\n",
       "    }\n",
       "\n",
       "    .dataframe thead th {\n",
       "        text-align: right;\n",
       "    }\n",
       "</style>\n",
       "<table border=\"1\" class=\"dataframe\">\n",
       "  <thead>\n",
       "    <tr style=\"text-align: right;\">\n",
       "      <th></th>\n",
       "      <th>duration_sec</th>\n",
       "      <th>start_time</th>\n",
       "      <th>end_time</th>\n",
       "      <th>start_station_id</th>\n",
       "      <th>start_station_name</th>\n",
       "      <th>start_station_latitude</th>\n",
       "      <th>start_station_longitude</th>\n",
       "      <th>end_station_id</th>\n",
       "      <th>end_station_name</th>\n",
       "      <th>end_station_latitude</th>\n",
       "      <th>...</th>\n",
       "      <th>June</th>\n",
       "      <th>July</th>\n",
       "      <th>August</th>\n",
       "      <th>September</th>\n",
       "      <th>October</th>\n",
       "      <th>November</th>\n",
       "      <th>Hour</th>\n",
       "      <th>Days Passed</th>\n",
       "      <th>Commute In</th>\n",
       "      <th>Commute Out</th>\n",
       "    </tr>\n",
       "  </thead>\n",
       "  <tbody>\n",
       "    <tr>\n",
       "      <th>0</th>\n",
       "      <td>145</td>\n",
       "      <td>2018-01-01 00:07:41.040</td>\n",
       "      <td>2018-01-01 00:10:06.2410</td>\n",
       "      <td>316.0</td>\n",
       "      <td>San Salvador St at 1st St</td>\n",
       "      <td>37.330165</td>\n",
       "      <td>-121.885831</td>\n",
       "      <td>311.0</td>\n",
       "      <td>Paseo De San Antonio at 2nd St</td>\n",
       "      <td>37.333798</td>\n",
       "      <td>...</td>\n",
       "      <td>0</td>\n",
       "      <td>0</td>\n",
       "      <td>0</td>\n",
       "      <td>0</td>\n",
       "      <td>0</td>\n",
       "      <td>0</td>\n",
       "      <td>0</td>\n",
       "      <td>0</td>\n",
       "      <td>0</td>\n",
       "      <td>0</td>\n",
       "    </tr>\n",
       "    <tr>\n",
       "      <th>1</th>\n",
       "      <td>714</td>\n",
       "      <td>2018-01-01 00:07:52.943</td>\n",
       "      <td>2018-01-01 00:19:47.0750</td>\n",
       "      <td>74.0</td>\n",
       "      <td>Laguna St at Hayes St</td>\n",
       "      <td>37.776435</td>\n",
       "      <td>-122.426244</td>\n",
       "      <td>70.0</td>\n",
       "      <td>Central Ave at Fell St</td>\n",
       "      <td>37.773311</td>\n",
       "      <td>...</td>\n",
       "      <td>0</td>\n",
       "      <td>0</td>\n",
       "      <td>0</td>\n",
       "      <td>0</td>\n",
       "      <td>0</td>\n",
       "      <td>0</td>\n",
       "      <td>0</td>\n",
       "      <td>0</td>\n",
       "      <td>0</td>\n",
       "      <td>0</td>\n",
       "    </tr>\n",
       "    <tr>\n",
       "      <th>2</th>\n",
       "      <td>1151</td>\n",
       "      <td>2018-01-01 00:09:31.745</td>\n",
       "      <td>2018-01-01 00:28:43.1590</td>\n",
       "      <td>97.0</td>\n",
       "      <td>14th St at Mission St</td>\n",
       "      <td>37.768265</td>\n",
       "      <td>-122.420110</td>\n",
       "      <td>125.0</td>\n",
       "      <td>20th St at Bryant St</td>\n",
       "      <td>37.759200</td>\n",
       "      <td>...</td>\n",
       "      <td>0</td>\n",
       "      <td>0</td>\n",
       "      <td>0</td>\n",
       "      <td>0</td>\n",
       "      <td>0</td>\n",
       "      <td>0</td>\n",
       "      <td>0</td>\n",
       "      <td>0</td>\n",
       "      <td>0</td>\n",
       "      <td>0</td>\n",
       "    </tr>\n",
       "    <tr>\n",
       "      <th>3</th>\n",
       "      <td>600</td>\n",
       "      <td>2018-01-01 00:19:48.761</td>\n",
       "      <td>2018-01-01 00:29:49.0740</td>\n",
       "      <td>17.0</td>\n",
       "      <td>Embarcadero BART Station (Beale St at Market St)</td>\n",
       "      <td>37.792251</td>\n",
       "      <td>-122.397086</td>\n",
       "      <td>19.0</td>\n",
       "      <td>Post St at Kearny St</td>\n",
       "      <td>37.788975</td>\n",
       "      <td>...</td>\n",
       "      <td>0</td>\n",
       "      <td>0</td>\n",
       "      <td>0</td>\n",
       "      <td>0</td>\n",
       "      <td>0</td>\n",
       "      <td>0</td>\n",
       "      <td>0</td>\n",
       "      <td>0</td>\n",
       "      <td>0</td>\n",
       "      <td>0</td>\n",
       "    </tr>\n",
       "    <tr>\n",
       "      <th>4</th>\n",
       "      <td>695</td>\n",
       "      <td>2018-01-01 00:19:58.761</td>\n",
       "      <td>2018-01-01 00:31:33.8320</td>\n",
       "      <td>23.0</td>\n",
       "      <td>The Embarcadero at Steuart St</td>\n",
       "      <td>37.791464</td>\n",
       "      <td>-122.391034</td>\n",
       "      <td>66.0</td>\n",
       "      <td>3rd St at Townsend St</td>\n",
       "      <td>37.778742</td>\n",
       "      <td>...</td>\n",
       "      <td>0</td>\n",
       "      <td>0</td>\n",
       "      <td>0</td>\n",
       "      <td>0</td>\n",
       "      <td>0</td>\n",
       "      <td>0</td>\n",
       "      <td>0</td>\n",
       "      <td>0</td>\n",
       "      <td>0</td>\n",
       "      <td>0</td>\n",
       "    </tr>\n",
       "  </tbody>\n",
       "</table>\n",
       "<p>5 rows × 41 columns</p>\n",
       "</div>"
      ],
      "text/plain": [
       "   duration_sec              start_time                  end_time  \\\n",
       "0           145 2018-01-01 00:07:41.040  2018-01-01 00:10:06.2410   \n",
       "1           714 2018-01-01 00:07:52.943  2018-01-01 00:19:47.0750   \n",
       "2          1151 2018-01-01 00:09:31.745  2018-01-01 00:28:43.1590   \n",
       "3           600 2018-01-01 00:19:48.761  2018-01-01 00:29:49.0740   \n",
       "4           695 2018-01-01 00:19:58.761  2018-01-01 00:31:33.8320   \n",
       "\n",
       "   start_station_id                                start_station_name  \\\n",
       "0             316.0                         San Salvador St at 1st St   \n",
       "1              74.0                             Laguna St at Hayes St   \n",
       "2              97.0                             14th St at Mission St   \n",
       "3              17.0  Embarcadero BART Station (Beale St at Market St)   \n",
       "4              23.0                     The Embarcadero at Steuart St   \n",
       "\n",
       "   start_station_latitude  start_station_longitude  end_station_id  \\\n",
       "0               37.330165              -121.885831           311.0   \n",
       "1               37.776435              -122.426244            70.0   \n",
       "2               37.768265              -122.420110           125.0   \n",
       "3               37.792251              -122.397086            19.0   \n",
       "4               37.791464              -122.391034            66.0   \n",
       "\n",
       "                 end_station_name  end_station_latitude  ...  June  July  \\\n",
       "0  Paseo De San Antonio at 2nd St             37.333798  ...     0     0   \n",
       "1          Central Ave at Fell St             37.773311  ...     0     0   \n",
       "2            20th St at Bryant St             37.759200  ...     0     0   \n",
       "3            Post St at Kearny St             37.788975  ...     0     0   \n",
       "4           3rd St at Townsend St             37.778742  ...     0     0   \n",
       "\n",
       "  August September October  November  Hour  Days Passed  Commute In  \\\n",
       "0      0         0       0         0     0            0           0   \n",
       "1      0         0       0         0     0            0           0   \n",
       "2      0         0       0         0     0            0           0   \n",
       "3      0         0       0         0     0            0           0   \n",
       "4      0         0       0         0     0            0           0   \n",
       "\n",
       "   Commute Out  \n",
       "0            0  \n",
       "1            0  \n",
       "2            0  \n",
       "3            0  \n",
       "4            0  \n",
       "\n",
       "[5 rows x 41 columns]"
      ]
     },
     "execution_count": 29,
     "metadata": {},
     "output_type": "execute_result"
    }
   ],
   "source": [
    "data.head()"
   ]
  },
  {
   "cell_type": "code",
   "execution_count": 2,
   "id": "ab773ef5-e898-4804-b12f-0c1059ab3eba",
   "metadata": {},
   "outputs": [
    {
     "name": "stderr",
     "output_type": "stream",
     "text": [
      "C:\\Users\\Newton\\anaconda3\\lib\\site-packages\\IPython\\core\\interactiveshell.py:3444: DtypeWarning: Columns (2) have mixed types.Specify dtype option on import or set low_memory=False.\n",
      "  exec(code_obj, self.user_global_ns, self.user_ns)\n"
     ]
    },
    {
     "data": {
      "text/html": [
       "<div>\n",
       "<style scoped>\n",
       "    .dataframe tbody tr th:only-of-type {\n",
       "        vertical-align: middle;\n",
       "    }\n",
       "\n",
       "    .dataframe tbody tr th {\n",
       "        vertical-align: top;\n",
       "    }\n",
       "\n",
       "    .dataframe thead th {\n",
       "        text-align: right;\n",
       "    }\n",
       "</style>\n",
       "<table border=\"1\" class=\"dataframe\">\n",
       "  <thead>\n",
       "    <tr style=\"text-align: right;\">\n",
       "      <th></th>\n",
       "      <th>Unnamed: 0</th>\n",
       "      <th>Unnamed: 0.1</th>\n",
       "      <th>zipcode</th>\n",
       "      <th>datetime</th>\n",
       "      <th>change</th>\n",
       "      <th>rental</th>\n",
       "      <th>date</th>\n",
       "      <th>time</th>\n",
       "      <th>parking_size</th>\n",
       "      <th>num_of_muni</th>\n",
       "      <th>temp</th>\n",
       "      <th>dwpt</th>\n",
       "      <th>rhum</th>\n",
       "      <th>prcp</th>\n",
       "      <th>wdir</th>\n",
       "      <th>wspd</th>\n",
       "      <th>pres</th>\n",
       "    </tr>\n",
       "  </thead>\n",
       "  <tbody>\n",
       "    <tr>\n",
       "      <th>0</th>\n",
       "      <td>0</td>\n",
       "      <td>0</td>\n",
       "      <td>94114</td>\n",
       "      <td>2018-01-31_22</td>\n",
       "      <td>-1</td>\n",
       "      <td>4</td>\n",
       "      <td>2018-01-31</td>\n",
       "      <td>22</td>\n",
       "      <td>44.012042</td>\n",
       "      <td>156</td>\n",
       "      <td>12.2</td>\n",
       "      <td>8.9</td>\n",
       "      <td>80</td>\n",
       "      <td>0.0</td>\n",
       "      <td>272.0</td>\n",
       "      <td>5.4</td>\n",
       "      <td>1018.0</td>\n",
       "    </tr>\n",
       "    <tr>\n",
       "      <th>1</th>\n",
       "      <td>1</td>\n",
       "      <td>1</td>\n",
       "      <td>94114</td>\n",
       "      <td>2018-01-31_23</td>\n",
       "      <td>-1</td>\n",
       "      <td>1</td>\n",
       "      <td>2018-01-31</td>\n",
       "      <td>23</td>\n",
       "      <td>44.012042</td>\n",
       "      <td>156</td>\n",
       "      <td>12.8</td>\n",
       "      <td>8.9</td>\n",
       "      <td>77</td>\n",
       "      <td>0.0</td>\n",
       "      <td>0.0</td>\n",
       "      <td>5.4</td>\n",
       "      <td>1018.3</td>\n",
       "    </tr>\n",
       "    <tr>\n",
       "      <th>2</th>\n",
       "      <td>2</td>\n",
       "      <td>2</td>\n",
       "      <td>94114</td>\n",
       "      <td>2018-01-31_21</td>\n",
       "      <td>2</td>\n",
       "      <td>3</td>\n",
       "      <td>2018-01-31</td>\n",
       "      <td>21</td>\n",
       "      <td>44.012042</td>\n",
       "      <td>156</td>\n",
       "      <td>12.2</td>\n",
       "      <td>8.3</td>\n",
       "      <td>77</td>\n",
       "      <td>0.0</td>\n",
       "      <td>280.0</td>\n",
       "      <td>18.4</td>\n",
       "      <td>1017.8</td>\n",
       "    </tr>\n",
       "    <tr>\n",
       "      <th>3</th>\n",
       "      <td>3</td>\n",
       "      <td>3</td>\n",
       "      <td>94114</td>\n",
       "      <td>2018-01-31_20</td>\n",
       "      <td>2</td>\n",
       "      <td>1</td>\n",
       "      <td>2018-01-31</td>\n",
       "      <td>20</td>\n",
       "      <td>44.012042</td>\n",
       "      <td>156</td>\n",
       "      <td>13.3</td>\n",
       "      <td>8.4</td>\n",
       "      <td>72</td>\n",
       "      <td>0.0</td>\n",
       "      <td>280.0</td>\n",
       "      <td>11.2</td>\n",
       "      <td>1017.3</td>\n",
       "    </tr>\n",
       "    <tr>\n",
       "      <th>4</th>\n",
       "      <td>4</td>\n",
       "      <td>4</td>\n",
       "      <td>94114</td>\n",
       "      <td>2018-01-31_19</td>\n",
       "      <td>1</td>\n",
       "      <td>7</td>\n",
       "      <td>2018-01-31</td>\n",
       "      <td>19</td>\n",
       "      <td>44.012042</td>\n",
       "      <td>156</td>\n",
       "      <td>13.9</td>\n",
       "      <td>8.3</td>\n",
       "      <td>69</td>\n",
       "      <td>0.0</td>\n",
       "      <td>280.0</td>\n",
       "      <td>13.0</td>\n",
       "      <td>1017.2</td>\n",
       "    </tr>\n",
       "  </tbody>\n",
       "</table>\n",
       "</div>"
      ],
      "text/plain": [
       "   Unnamed: 0  Unnamed: 0.1 zipcode       datetime  change  rental  \\\n",
       "0           0             0   94114  2018-01-31_22      -1       4   \n",
       "1           1             1   94114  2018-01-31_23      -1       1   \n",
       "2           2             2   94114  2018-01-31_21       2       3   \n",
       "3           3             3   94114  2018-01-31_20       2       1   \n",
       "4           4             4   94114  2018-01-31_19       1       7   \n",
       "\n",
       "         date  time  parking_size  num_of_muni  temp  dwpt  rhum  prcp   wdir  \\\n",
       "0  2018-01-31    22     44.012042          156  12.2   8.9    80   0.0  272.0   \n",
       "1  2018-01-31    23     44.012042          156  12.8   8.9    77   0.0    0.0   \n",
       "2  2018-01-31    21     44.012042          156  12.2   8.3    77   0.0  280.0   \n",
       "3  2018-01-31    20     44.012042          156  13.3   8.4    72   0.0  280.0   \n",
       "4  2018-01-31    19     44.012042          156  13.9   8.3    69   0.0  280.0   \n",
       "\n",
       "   wspd    pres  \n",
       "0   5.4  1018.0  \n",
       "1   5.4  1018.3  \n",
       "2  18.4  1017.8  \n",
       "3  11.2  1017.3  \n",
       "4  13.0  1017.2  "
      ]
     },
     "execution_count": 2,
     "metadata": {},
     "output_type": "execute_result"
    }
   ],
   "source": [
    "data = pd.read_csv('aggregated_dataset_updated.csv')\n",
    "data.head()"
   ]
  },
  {
   "cell_type": "markdown",
   "id": "9be6a67f-e79d-4553-b849-2301939a0cee",
   "metadata": {},
   "source": [
    "# Producing Time Series Data"
   ]
  },
  {
   "cell_type": "markdown",
   "id": "ab793f32-3f7f-4d39-a521-70966b2be26a",
   "metadata": {},
   "source": [
    "Start by generating proxy columns for the date and hour to make life easier"
   ]
  },
  {
   "cell_type": "code",
   "execution_count": 3,
   "id": "5fb0e6e2-aff0-4b09-ac95-5b388fa8bddb",
   "metadata": {},
   "outputs": [],
   "source": [
    "data['date_hour'] = pd.to_datetime(data['datetime'], format='%Y-%m-%d_%H')"
   ]
  },
  {
   "cell_type": "code",
   "execution_count": 4,
   "id": "5744ab25-5ba5-4e3f-89a5-34d251129cc7",
   "metadata": {},
   "outputs": [],
   "source": [
    "us_bd = CustomBusinessDay(calendar=USFederalHolidayCalendar())"
   ]
  },
  {
   "cell_type": "code",
   "execution_count": 5,
   "id": "bec72ebe-cbf2-42f7-ae17-a7897bf36f06",
   "metadata": {},
   "outputs": [],
   "source": [
    "data['Business Day'] = (data['date_hour'].dt.date.isin(pd.date_range(start='2018-01-01',end='2020-01-01', freq=us_bd).date))*1"
   ]
  },
  {
   "cell_type": "code",
   "execution_count": 6,
   "id": "3c32b39b-dee8-425b-9687-b0efee6511c2",
   "metadata": {},
   "outputs": [],
   "source": [
    "data['Holiday'] = (data['date_hour'].dt.date.isin(USFederalHolidayCalendar().holidays(start='2018-01-01',end='2020-01-01').date))*1"
   ]
  },
  {
   "cell_type": "code",
   "execution_count": 7,
   "id": "4e514e0c-c10d-49e6-a218-1e1e8223c09e",
   "metadata": {},
   "outputs": [],
   "source": [
    "day_name = ['Monday', 'Tuesday', 'Wednesday', 'Thursday', 'Friday', 'Saturday']\n",
    "day_name = dict(enumerate(day_name))\n",
    "month_name = ['January', 'February', 'March', 'April', 'May', 'June', 'July', 'August', 'September', 'October', 'November']\n",
    "month_name = dict(enumerate(month_name))\n",
    "season_name = ['Spring', 'Summer', 'Fall']\n",
    "season_name = dict(enumerate(season_name))"
   ]
  },
  {
   "cell_type": "code",
   "execution_count": 8,
   "id": "1511a35b-9724-4ae2-aaba-44246951fc52",
   "metadata": {},
   "outputs": [],
   "source": [
    "for i in range(3):\n",
    "    data[season_name[i]] = (data['date_hour'].dt.month%12 // 3 + 1 == i)*1\n",
    "    \n",
    "for i in range(6):\n",
    "    data[day_name[i]] = (data['date_hour'].dt.dayofweek == i)*1\n",
    "    \n",
    "for i in range(11):\n",
    "    data[month_name[i]] = (data['date_hour'].dt.month == i+1)*1"
   ]
  },
  {
   "cell_type": "code",
   "execution_count": 9,
   "id": "c271e69b-be81-45c9-9cb2-76103c4ad379",
   "metadata": {},
   "outputs": [],
   "source": [
    "data['Hour'] = data['date_hour'].dt.hour"
   ]
  },
  {
   "cell_type": "code",
   "execution_count": 10,
   "id": "9dffd12a-4977-4f2a-8cfe-8b37c2277a24",
   "metadata": {},
   "outputs": [],
   "source": [
    "data['Days Passed'] = (data['date_hour'] - pd.to_datetime('2018-01-01')).dt.days"
   ]
  },
  {
   "cell_type": "code",
   "execution_count": 11,
   "id": "718c4e04-f33f-456c-b096-e2059d824fb1",
   "metadata": {},
   "outputs": [],
   "source": [
    "data['Commute In'] = ((data['date_hour'].dt.time >= time(8,0)) & (data['date_hour'].dt.time <= time(9,0)) & (data['Business Day']))*1"
   ]
  },
  {
   "cell_type": "code",
   "execution_count": 12,
   "id": "85bb1d2c-e790-4f41-a56c-edff37fd6d96",
   "metadata": {},
   "outputs": [],
   "source": [
    "data['Commute Out'] = ((data['date_hour'].dt.time >= time(16,0)) & (data['date_hour'].dt.time <= time(18,0)) & (data['Business Day']))*1"
   ]
  },
  {
   "cell_type": "code",
   "execution_count": 14,
   "id": "7f5c70fd-2ffd-4620-a859-54cdd4fb0150",
   "metadata": {},
   "outputs": [],
   "source": [
    "data.drop(columns='date_hour',inplace=True)"
   ]
  },
  {
   "cell_type": "code",
   "execution_count": 15,
   "id": "4ad08110-1fc7-4b4d-a048-8a3d529b9b31",
   "metadata": {},
   "outputs": [],
   "source": [
    "data.to_csv('aggregated_dataset_updated_with_time.csv')"
   ]
  },
  {
   "cell_type": "markdown",
   "id": "04a91545-863b-40ec-ba6c-90c96f72326a",
   "metadata": {},
   "source": [
    "# Code below for the original data"
   ]
  },
  {
   "cell_type": "code",
   "execution_count": 15,
   "id": "e33d5c62-732a-45e7-bcec-5620e18c9e72",
   "metadata": {},
   "outputs": [],
   "source": [
    "us_bd = CustomBusinessDay(calendar=USFederalHolidayCalendar())"
   ]
  },
  {
   "cell_type": "code",
   "execution_count": 16,
   "id": "507227a3-7e2a-4874-bcc3-5ca83e5b0b44",
   "metadata": {},
   "outputs": [],
   "source": [
    "data['start_time'] = pd.to_datetime(data['start_time'])"
   ]
  },
  {
   "cell_type": "code",
   "execution_count": 17,
   "id": "44ff49a9-dc51-49f6-9b24-a0049629f1c9",
   "metadata": {},
   "outputs": [],
   "source": [
    "data['Business Day'] = (data['start_time'].dt.date.isin(pd.date_range(start='2018-01-01',end='2020-01-01', freq=us_bd).date))*1"
   ]
  },
  {
   "cell_type": "code",
   "execution_count": 18,
   "id": "6f627f43-d9be-45de-9068-19feeb24dad9",
   "metadata": {},
   "outputs": [],
   "source": [
    "data['Holiday'] = (data['start_time'].dt.date.isin(USFederalHolidayCalendar().holidays(start='2018-01-01',end='2020-01-01').date))*1"
   ]
  },
  {
   "cell_type": "code",
   "execution_count": 19,
   "id": "143ca9a0-989c-4529-b3bf-eb81ed93b5c4",
   "metadata": {},
   "outputs": [],
   "source": [
    "day_name = ['Monday', 'Tuesday', 'Wednesday', 'Thursday', 'Friday', 'Saturday']\n",
    "day_name = dict(enumerate(day_name))\n",
    "month_name = ['January', 'February', 'March', 'April', 'May', 'June', 'July', 'August', 'September', 'October', 'November']\n",
    "month_name = dict(enumerate(month_name))\n",
    "season_name = ['Spring', 'Summer', 'Fall']\n",
    "season_name = dict(enumerate(season_name))"
   ]
  },
  {
   "cell_type": "code",
   "execution_count": 20,
   "id": "3f463bb1-db69-4c65-8975-d42c5c1e802c",
   "metadata": {},
   "outputs": [],
   "source": [
    "for i in range(3):\n",
    "    data[season_name[i]] = (data['start_time'].dt.month%12 // 3 + 1 == i)*1"
   ]
  },
  {
   "cell_type": "code",
   "execution_count": 21,
   "id": "105eccdb-6469-4257-9e25-3cc5e6e55edb",
   "metadata": {},
   "outputs": [],
   "source": [
    "for i in range(6):\n",
    "    data[day_name[i]] = (data['start_time'].dt.dayofweek == i)*1"
   ]
  },
  {
   "cell_type": "code",
   "execution_count": 22,
   "id": "bc6e3137-54f4-4763-a9ac-5b435ed0ef05",
   "metadata": {},
   "outputs": [],
   "source": [
    "for i in range(11):\n",
    "    data[month_name[i]] = (data['start_time'].dt.month == i+1)*1"
   ]
  },
  {
   "cell_type": "code",
   "execution_count": 23,
   "id": "30e4022c-d981-4960-b30e-4543385d84c5",
   "metadata": {},
   "outputs": [],
   "source": [
    "data['Hour'] = data['start_time'].dt.hour"
   ]
  },
  {
   "cell_type": "code",
   "execution_count": 24,
   "id": "402e7a04-5e0a-4409-ab33-6f0ecdc9a93a",
   "metadata": {},
   "outputs": [],
   "source": [
    "data['Days Passed'] = (data['start_time'] - pd.to_datetime('2018-01-01')).dt.days"
   ]
  },
  {
   "cell_type": "code",
   "execution_count": 25,
   "id": "ee2c17ee-61a9-4cf0-a37f-88cd59418d50",
   "metadata": {},
   "outputs": [],
   "source": [
    "data['Commute In'] = ((data['start_time'].dt.time >= time(8,0)) & (data['start_time'].dt.time <= time(9,30)) & (data['Business Day']))*1"
   ]
  },
  {
   "cell_type": "code",
   "execution_count": 26,
   "id": "62c770ea-78ce-4e59-96f8-91494576106a",
   "metadata": {},
   "outputs": [],
   "source": [
    "data['Commute Out'] = ((data['start_time'].dt.time >= time(16,30)) & (data['start_time'].dt.time <= time(18,30)) & (data['Business Day']))*1"
   ]
  },
  {
   "cell_type": "code",
   "execution_count": 27,
   "id": "b48d0ccd-ca46-4e4a-b4cb-2acf3dc6e88d",
   "metadata": {},
   "outputs": [],
   "source": [
    "export_df = data.loc[:, 'Business Day':]"
   ]
  },
  {
   "cell_type": "code",
   "execution_count": 28,
   "id": "0a9c1326-46d6-4487-800a-0582ede3b4b4",
   "metadata": {},
   "outputs": [],
   "source": [
    "export_df.to_csv('time_series_nonagg.csv')"
   ]
  },
  {
   "cell_type": "code",
   "execution_count": null,
   "id": "b1184e3e-0410-448a-95dd-fdcb9eee21b9",
   "metadata": {},
   "outputs": [],
   "source": [
    "# autoregressive features are most easily added after we groupby and/or reindex by time and location, so we can use the shift() method to shift per hour\n",
    "# data['Lag'] = data['Change in Bikes'].shift()"
   ]
  }
 ],
 "metadata": {
  "kernelspec": {
   "display_name": "Python 3 (ipykernel)",
   "language": "python",
   "name": "python3"
  },
  "language_info": {
   "codemirror_mode": {
    "name": "ipython",
    "version": 3
   },
   "file_extension": ".py",
   "mimetype": "text/x-python",
   "name": "python",
   "nbconvert_exporter": "python",
   "pygments_lexer": "ipython3",
   "version": "3.8.8"
  }
 },
 "nbformat": 4,
 "nbformat_minor": 5
}
