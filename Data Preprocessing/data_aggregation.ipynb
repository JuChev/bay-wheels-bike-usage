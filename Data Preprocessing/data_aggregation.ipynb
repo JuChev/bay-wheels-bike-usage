{
 "cells": [
  {
   "cell_type": "code",
   "execution_count": null,
   "metadata": {},
   "outputs": [],
   "source": []
  },
  {
   "cell_type": "code",
   "execution_count": 1,
   "metadata": {},
   "outputs": [],
   "source": [
    "import os\n",
    "import pandas as pd\n",
    "import numpy as np\n",
    "import matplotlib.pyplot as plt\n",
    "from collections import defaultdict\n",
    "import time"
   ]
  },
  {
   "cell_type": "code",
   "execution_count": 4,
   "metadata": {},
   "outputs": [
    {
     "name": "stdout",
     "output_type": "stream",
     "text": [
      "806723\n"
     ]
    }
   ],
   "source": [
    "filenames = [\n",
    "             \"202012-baywheels-tripdata\",]\n",
    "\n",
    "count = 0\n",
    "for filename in filenames:\n",
    "\n",
    "    bike = pd.read_csv(filename)\n",
    "    count += len(bike)\n",
    "    \n",
    "print(count)"
   ]
  },
  {
   "cell_type": "code",
   "execution_count": 7,
   "metadata": {},
   "outputs": [
    {
     "name": "stdout",
     "output_type": "stream",
     "text": [
      "<class 'pandas.core.frame.DataFrame'>\n",
      "RangeIndex: 19 entries, 0 to 18\n",
      "Data columns (total 13 columns):\n",
      " #   Column                   Non-Null Count  Dtype  \n",
      "---  ------                   --------------  -----  \n",
      " 0   duration_sec             19 non-null     int64  \n",
      " 1   start_time               19 non-null     object \n",
      " 2   end_time                 19 non-null     object \n",
      " 3   start_station_id         19 non-null     int64  \n",
      " 4   start_station_name       19 non-null     object \n",
      " 5   start_station_latitude   19 non-null     float64\n",
      " 6   start_station_longitude  19 non-null     float64\n",
      " 7   end_station_id           19 non-null     int64  \n",
      " 8   end_station_name         19 non-null     object \n",
      " 9   end_station_latitude     19 non-null     float64\n",
      " 10  end_station_longitude    19 non-null     float64\n",
      " 11  bike_id                  19 non-null     int64  \n",
      " 12  user_type                19 non-null     object \n",
      "dtypes: float64(4), int64(4), object(5)\n",
      "memory usage: 2.1+ KB\n"
     ]
    },
    {
     "data": {
      "text/html": [
       "<div>\n",
       "<style scoped>\n",
       "    .dataframe tbody tr th:only-of-type {\n",
       "        vertical-align: middle;\n",
       "    }\n",
       "\n",
       "    .dataframe tbody tr th {\n",
       "        vertical-align: top;\n",
       "    }\n",
       "\n",
       "    .dataframe thead th {\n",
       "        text-align: right;\n",
       "    }\n",
       "</style>\n",
       "<table border=\"1\" class=\"dataframe\">\n",
       "  <thead>\n",
       "    <tr style=\"text-align: right;\">\n",
       "      <th></th>\n",
       "      <th>duration_sec</th>\n",
       "      <th>start_time</th>\n",
       "      <th>end_time</th>\n",
       "      <th>start_station_id</th>\n",
       "      <th>start_station_name</th>\n",
       "      <th>start_station_latitude</th>\n",
       "      <th>start_station_longitude</th>\n",
       "      <th>end_station_id</th>\n",
       "      <th>end_station_name</th>\n",
       "      <th>end_station_latitude</th>\n",
       "      <th>end_station_longitude</th>\n",
       "      <th>bike_id</th>\n",
       "      <th>user_type</th>\n",
       "    </tr>\n",
       "  </thead>\n",
       "  <tbody>\n",
       "    <tr>\n",
       "      <th>0</th>\n",
       "      <td>80110</td>\n",
       "      <td>12/31/17 16:57</td>\n",
       "      <td>1/1/18 15:12</td>\n",
       "      <td>74</td>\n",
       "      <td>Laguna St at Hayes St</td>\n",
       "      <td>37.776435</td>\n",
       "      <td>-122.426244</td>\n",
       "      <td>43</td>\n",
       "      <td>San Francisco Public Library (Grove St at Hyde...</td>\n",
       "      <td>37.778768</td>\n",
       "      <td>-122.415929</td>\n",
       "      <td>96</td>\n",
       "      <td>Customer</td>\n",
       "    </tr>\n",
       "    <tr>\n",
       "      <th>1</th>\n",
       "      <td>78800</td>\n",
       "      <td>12/31/17 15:56</td>\n",
       "      <td>1/1/18 13:49</td>\n",
       "      <td>284</td>\n",
       "      <td>Yerba Buena Center for the Arts (Howard St at ...</td>\n",
       "      <td>37.784872</td>\n",
       "      <td>-122.400876</td>\n",
       "      <td>96</td>\n",
       "      <td>Dolores St at 15th St</td>\n",
       "      <td>37.766210</td>\n",
       "      <td>-122.426614</td>\n",
       "      <td>88</td>\n",
       "      <td>Customer</td>\n",
       "    </tr>\n",
       "    <tr>\n",
       "      <th>2</th>\n",
       "      <td>45768</td>\n",
       "      <td>12/31/17 22:45</td>\n",
       "      <td>1/1/18 11:28</td>\n",
       "      <td>245</td>\n",
       "      <td>Downtown Berkeley BART</td>\n",
       "      <td>37.870348</td>\n",
       "      <td>-122.267764</td>\n",
       "      <td>245</td>\n",
       "      <td>Downtown Berkeley BART</td>\n",
       "      <td>37.870348</td>\n",
       "      <td>-122.267764</td>\n",
       "      <td>1094</td>\n",
       "      <td>Customer</td>\n",
       "    </tr>\n",
       "    <tr>\n",
       "      <th>3</th>\n",
       "      <td>62172</td>\n",
       "      <td>12/31/17 17:31</td>\n",
       "      <td>1/1/18 10:47</td>\n",
       "      <td>60</td>\n",
       "      <td>8th St at Ringold St</td>\n",
       "      <td>37.774520</td>\n",
       "      <td>-122.409449</td>\n",
       "      <td>5</td>\n",
       "      <td>Powell St BART Station (Market St at 5th St)</td>\n",
       "      <td>37.783899</td>\n",
       "      <td>-122.408445</td>\n",
       "      <td>2831</td>\n",
       "      <td>Customer</td>\n",
       "    </tr>\n",
       "    <tr>\n",
       "      <th>4</th>\n",
       "      <td>43603</td>\n",
       "      <td>12/31/17 14:23</td>\n",
       "      <td>1/1/18 2:29</td>\n",
       "      <td>239</td>\n",
       "      <td>Bancroft Way at Telegraph Ave</td>\n",
       "      <td>37.868813</td>\n",
       "      <td>-122.258764</td>\n",
       "      <td>247</td>\n",
       "      <td>Fulton St at Bancroft Way</td>\n",
       "      <td>37.867789</td>\n",
       "      <td>-122.265896</td>\n",
       "      <td>3167</td>\n",
       "      <td>Subscriber</td>\n",
       "    </tr>\n",
       "  </tbody>\n",
       "</table>\n",
       "</div>"
      ],
      "text/plain": [
       "   duration_sec      start_time      end_time  start_station_id  \\\n",
       "0         80110  12/31/17 16:57  1/1/18 15:12                74   \n",
       "1         78800  12/31/17 15:56  1/1/18 13:49               284   \n",
       "2         45768  12/31/17 22:45  1/1/18 11:28               245   \n",
       "3         62172  12/31/17 17:31  1/1/18 10:47                60   \n",
       "4         43603  12/31/17 14:23   1/1/18 2:29               239   \n",
       "\n",
       "                                  start_station_name  start_station_latitude  \\\n",
       "0                              Laguna St at Hayes St               37.776435   \n",
       "1  Yerba Buena Center for the Arts (Howard St at ...               37.784872   \n",
       "2                             Downtown Berkeley BART               37.870348   \n",
       "3                               8th St at Ringold St               37.774520   \n",
       "4                      Bancroft Way at Telegraph Ave               37.868813   \n",
       "\n",
       "   start_station_longitude  end_station_id  \\\n",
       "0              -122.426244              43   \n",
       "1              -122.400876              96   \n",
       "2              -122.267764             245   \n",
       "3              -122.409449               5   \n",
       "4              -122.258764             247   \n",
       "\n",
       "                                    end_station_name  end_station_latitude  \\\n",
       "0  San Francisco Public Library (Grove St at Hyde...             37.778768   \n",
       "1                              Dolores St at 15th St             37.766210   \n",
       "2                             Downtown Berkeley BART             37.870348   \n",
       "3       Powell St BART Station (Market St at 5th St)             37.783899   \n",
       "4                          Fulton St at Bancroft Way             37.867789   \n",
       "\n",
       "   end_station_longitude  bike_id   user_type  \n",
       "0            -122.415929       96    Customer  \n",
       "1            -122.426614       88    Customer  \n",
       "2            -122.267764     1094    Customer  \n",
       "3            -122.408445     2831    Customer  \n",
       "4            -122.265896     3167  Subscriber  "
      ]
     },
     "execution_count": 7,
     "metadata": {},
     "output_type": "execute_result"
    }
   ],
   "source": [
    "bike = pd.read_csv(\"bike.csv\")\n",
    "bike.info()"
   ]
  },
  {
   "cell_type": "code",
   "execution_count": 8,
   "metadata": {},
   "outputs": [
    {
     "data": {
      "text/plain": [
       "str"
      ]
     },
     "execution_count": 8,
     "metadata": {},
     "output_type": "execute_result"
    }
   ],
   "source": [
    "type(bike_poc[\"start_time\"][1])"
   ]
  },
  {
   "cell_type": "code",
   "execution_count": 9,
   "metadata": {},
   "outputs": [
    {
     "data": {
      "text/plain": [
       "'12/31/17_16'"
      ]
     },
     "execution_count": 9,
     "metadata": {},
     "output_type": "execute_result"
    }
   ],
   "source": [
    "bike_poc[\"start_time\"][0].replace(' ', '_').split(':', 1)[0]"
   ]
  },
  {
   "cell_type": "code",
   "execution_count": 10,
   "metadata": {},
   "outputs": [
    {
     "name": "stdout",
     "output_type": "stream",
     "text": [
      "<class 'pandas.core.frame.DataFrame'>\n",
      "RangeIndex: 19 entries, 0 to 18\n",
      "Data columns (total 13 columns):\n",
      " #   Column                   Non-Null Count  Dtype  \n",
      "---  ------                   --------------  -----  \n",
      " 0   duration_sec             19 non-null     int64  \n",
      " 1   start_time               19 non-null     object \n",
      " 2   end_time                 19 non-null     object \n",
      " 3   start_station_id         19 non-null     int64  \n",
      " 4   start_station_name       19 non-null     object \n",
      " 5   start_station_latitude   19 non-null     float64\n",
      " 6   start_station_longitude  19 non-null     float64\n",
      " 7   end_station_id           19 non-null     int64  \n",
      " 8   end_station_name         19 non-null     object \n",
      " 9   end_station_latitude     19 non-null     float64\n",
      " 10  end_station_longitude    19 non-null     float64\n",
      " 11  bike_id                  19 non-null     int64  \n",
      " 12  user_type                19 non-null     object \n",
      "dtypes: float64(4), int64(4), object(5)\n",
      "memory usage: 2.1+ KB\n"
     ]
    }
   ],
   "source": [
    "bike_poc[\"start_time\"] = [time.replace(' ', '_').split(':', 1)[0] for time in bike_poc[\"start_time\"]]\n",
    "bike_poc[\"end_time\"] = [time.replace(' ', '_').split(':', 1)[0] for time in bike_poc[\"end_time\"]]\n",
    "bike_poc.info()"
   ]
  },
  {
   "cell_type": "code",
   "execution_count": 11,
   "metadata": {},
   "outputs": [],
   "source": [
    "station_zipcode = defaultdict(str)\n",
    "station_zipcode[250] = 94702\n",
    "station_zipcode[309] = 95112"
   ]
  },
  {
   "cell_type": "code",
   "execution_count": 12,
   "metadata": {},
   "outputs": [],
   "source": [
    "missing_zipcode = []"
   ]
  },
  {
   "cell_type": "code",
   "execution_count": 13,
   "metadata": {},
   "outputs": [],
   "source": [
    "import geopy\n",
    "\n",
    "def get_zipcode(station_num, lat, lon):\n",
    "    zipcode = station_zipcode.get(station_num, 0)\n",
    "    if not zipcode:\n",
    "        try:\n",
    "            zipcode = geolocator.reverse((lat, lon)).raw['address']['postcode'][:5]\n",
    "            station_zipcode[station_num] = zipcode\n",
    "        except:\n",
    "            missing_zipcode.append((station_num, lat, lon))\n",
    "            print(\"Having trouble retriving postcode for station:\", station_num, \"with lat:\", lat, \" and lon:\", lon)\n",
    "        \n",
    "    return zipcode\n",
    "\n",
    "geolocator = geopy.Nominatim(user_agent='cyson')\n",
    "\n",
    "# get_zipcode(74, '37.776435', '-122.426244')"
   ]
  },
  {
   "cell_type": "code",
   "execution_count": 14,
   "metadata": {},
   "outputs": [],
   "source": [
    "def process_bike_data(file, df):\n",
    "    station_flow = defaultdict(lambda: defaultdict(lambda: defaultdict(int)))\n",
    "    \n",
    "    # format datetime\n",
    "    file[\"start_time\"] = [time.replace(' ', '_').split(':', 1)[0] for time in file[\"start_time\"]]\n",
    "    file[\"end_time\"] = [time.replace(' ', '_').split(':', 1)[0] for time in file[\"end_time\"]]\n",
    "\n",
    "    for index, row in file.iterrows():\n",
    "        start_datetime = row['start_time']\n",
    "        end_datetime = row['end_time']\n",
    "        start_zipcode = get_zipcode(row['start_station_id'], \\\n",
    "                                    row['start_station_latitude'], \\\n",
    "                                    row['start_station_longitude'])\n",
    "        end_zipcode = get_zipcode(row['end_station_id'], \\\n",
    "                                    row['end_station_latitude'], \\\n",
    "                                    row['end_station_longitude'])\n",
    "        station_flow[start_zipcode][start_datetime]['rental'] += 1\n",
    "        station_flow[start_zipcode][start_datetime]['change'] -= 1\n",
    "        station_flow[end_zipcode][end_datetime]['change'] += 1\n",
    "\n",
    "    for zipcode, v in station_flow.items():\n",
    "        for datetime, item in v.items():\n",
    "            df = df.append({'zipcode': zipcode, 'datetime': datetime, \\\n",
    "                            'change': item['change'], 'rental': item['rental']}, \\\n",
    "                           ignore_index=True)\n",
    "            \n",
    "    return df"
   ]
  },
  {
   "cell_type": "code",
   "execution_count": 18,
   "metadata": {},
   "outputs": [
    {
     "name": "stdout",
     "output_type": "stream",
     "text": [
      "time: 110.14 s\n"
     ]
    },
    {
     "name": "stderr",
     "output_type": "stream",
     "text": [
      "/Users/xingchen/opt/anaconda3/lib/python3.8/site-packages/IPython/core/interactiveshell.py:3146: DtypeWarning: Columns (14) have mixed types.Specify dtype option on import or set low_memory=False.\n",
      "  has_raised = await self.run_ast_nodes(code_ast.body, cell_name,\n"
     ]
    },
    {
     "name": "stdout",
     "output_type": "stream",
     "text": [
      "Having trouble retriving postcode for station: nan with lat: 37.3373331667  and lon: -121.8869441667\n",
      "Having trouble retriving postcode for station: nan with lat: 37.3383633333  and lon: -121.8854398333\n",
      "Having trouble retriving postcode for station: nan with lat: 37.3376425  and lon: -121.8856496667\n",
      "Having trouble retriving postcode for station: nan with lat: 37.3378933333  and lon: -121.8858576667\n",
      "Having trouble retriving postcode for station: nan with lat: 37.3375988333  and lon: -121.8855306667\n",
      "Having trouble retriving postcode for station: nan with lat: 37.3376621667  and lon: -121.8856216667\n",
      "Having trouble retriving postcode for station: nan with lat: 37.3376938333  and lon: -121.88546550000001\n",
      "Having trouble retriving postcode for station: nan with lat: 37.3377376667  and lon: -121.8853088333\n",
      "Having trouble retriving postcode for station: nan with lat: 37.337676  and lon: -121.8853395\n",
      "Having trouble retriving postcode for station: nan with lat: 37.3384216667  and lon: -121.8857116667\n",
      "Having trouble retriving postcode for station: nan with lat: 37.3379198333  and lon: -121.8858803333\n",
      "Having trouble retriving postcode for station: nan with lat: 37.3376901667  and lon: -121.8854018333\n",
      "Having trouble retriving postcode for station: nan with lat: 37.3382781667  and lon: -121.8857848333\n",
      "Having trouble retriving postcode for station: nan with lat: 37.3377201667  and lon: -121.8856126667\n",
      "Having trouble retriving postcode for station: nan with lat: 37.3376916667  and lon: -121.8853416667\n",
      "Having trouble retriving postcode for station: nan with lat: 37.337790000000005  and lon: -121.8856801667\n",
      "Having trouble retriving postcode for station: nan with lat: 37.3379751667  and lon: -121.8857581667\n",
      "Having trouble retriving postcode for station: nan with lat: 37.3379976667  and lon: -121.8857963333\n",
      "Having trouble retriving postcode for station: nan with lat: 37.3380413333  and lon: -121.8858418333\n",
      "Having trouble retriving postcode for station: nan with lat: 37.3551486667  and lon: -121.8816256667\n",
      "Having trouble retriving postcode for station: nan with lat: 37.3380215  and lon: -121.88583\n",
      "Having trouble retriving postcode for station: nan with lat: 37.3374748333  and lon: -121.887074\n",
      "Having trouble retriving postcode for station: nan with lat: 37.3380213333  and lon: -121.885791\n",
      "Having trouble retriving postcode for station: nan with lat: 37.337963333299996  and lon: -121.885879\n",
      "Having trouble retriving postcode for station: nan with lat: 37.3380268333  and lon: -121.8858983333\n",
      "Having trouble retriving postcode for station: nan with lat: 37.3380151667  and lon: -121.8858215\n",
      "Having trouble retriving postcode for station: nan with lat: 37.337649  and lon: -121.8855771667\n",
      "Having trouble retriving postcode for station: nan with lat: 37.3380001667  and lon: -121.8858046667\n",
      "Having trouble retriving postcode for station: nan with lat: 37.338017  and lon: -121.8859103333\n",
      "Having trouble retriving postcode for station: nan with lat: 37.3373228333  and lon: -121.8856358333\n",
      "Having trouble retriving postcode for station: nan with lat: 37.3373361667  and lon: -121.88561000000001\n",
      "Having trouble retriving postcode for station: nan with lat: 37.3373406667  and lon: -121.8856001667\n",
      "Having trouble retriving postcode for station: nan with lat: 37.3373555  and lon: -121.8856278333\n",
      "Having trouble retriving postcode for station: nan with lat: 37.337340999999995  and lon: -121.8869468333\n",
      "Having trouble retriving postcode for station: nan with lat: 37.3373551667  and lon: -121.8870335\n",
      "Having trouble retriving postcode for station: nan with lat: 37.337357  and lon: -121.8870041667\n",
      "Having trouble retriving postcode for station: nan with lat: 37.3373373333  and lon: -121.8870923333\n",
      "Having trouble retriving postcode for station: nan with lat: 37.337381  and lon: -121.8856353333\n",
      "Having trouble retriving postcode for station: nan with lat: 37.3373721667  and lon: -121.8870751667\n",
      "Having trouble retriving postcode for station: nan with lat: 37.33739  and lon: -121.88702649999999\n",
      "Having trouble retriving postcode for station: nan with lat: 37.337385499999996  and lon: -121.8869913333\n",
      "Having trouble retriving postcode for station: nan with lat: 37.3374761667  and lon: -121.8869741667\n",
      "Having trouble retriving postcode for station: nan with lat: 37.3373093333  and lon: -121.8870806667\n",
      "Having trouble retriving postcode for station: nan with lat: 37.3373721667  and lon: -121.8869943333\n",
      "Having trouble retriving postcode for station: nan with lat: 37.3373738333  and lon: -121.88696566670001\n",
      "Having trouble retriving postcode for station: nan with lat: 37.3374361667  and lon: -121.8870413333\n",
      "Having trouble retriving postcode for station: nan with lat: 37.3373951667  and lon: -121.8871276667\n",
      "Having trouble retriving postcode for station: nan with lat: 37.3374085  and lon: -121.8855371667\n",
      "Having trouble retriving postcode for station: nan with lat: 37.3374235  and lon: -121.8870108333\n",
      "Having trouble retriving postcode for station: nan with lat: 37.3374603333  and lon: -121.887095\n",
      "Having trouble retriving postcode for station: nan with lat: 37.3374718333  and lon: -121.8855993333\n",
      "Having trouble retriving postcode for station: nan with lat: 37.337475500000004  and lon: -121.88570849999999\n",
      "Having trouble retriving postcode for station: nan with lat: 37.337491666700004  and lon: -121.8856895\n",
      "Having trouble retriving postcode for station: nan with lat: 37.3375076667  and lon: -121.8859676667\n",
      "Having trouble retriving postcode for station: nan with lat: 37.3375391667  and lon: -121.8857651667\n",
      "Having trouble retriving postcode for station: nan with lat: 37.3375653333  and lon: -121.8856381667\n",
      "Having trouble retriving postcode for station: nan with lat: 37.3375866667  and lon: -121.885598\n",
      "Having trouble retriving postcode for station: nan with lat: 37.3379146667  and lon: -121.8860278333\n",
      "Having trouble retriving postcode for station: nan with lat: 37.337918333299996  and lon: -121.88584750000001\n",
      "Having trouble retriving postcode for station: nan with lat: 37.3379385  and lon: -121.88587849999999\n",
      "Having trouble retriving postcode for station: nan with lat: 37.337948499999996  and lon: -121.88584399999999\n",
      "Having trouble retriving postcode for station: nan with lat: 37.337957  and lon: -121.88598700000001\n",
      "Having trouble retriving postcode for station: nan with lat: 37.3379713333  and lon: -121.8859146667\n",
      "Having trouble retriving postcode for station: nan with lat: 37.3379745  and lon: -121.8859061667\n",
      "Having trouble retriving postcode for station: nan with lat: 37.3379871667  and lon: -121.88585283329999\n",
      "Having trouble retriving postcode for station: nan with lat: 37.3379906667  and lon: -121.8857633333\n",
      "Having trouble retriving postcode for station: nan with lat: 37.3379926667  and lon: -121.8858206667\n",
      "Having trouble retriving postcode for station: nan with lat: 37.337994333299996  and lon: -121.8858311667\n",
      "Having trouble retriving postcode for station: nan with lat: 37.3379946667  and lon: -121.8857471667\n",
      "Having trouble retriving postcode for station: nan with lat: 37.3380025  and lon: -121.8858288333\n",
      "Having trouble retriving postcode for station: nan with lat: 37.3380303333  and lon: -121.8858593333\n",
      "Having trouble retriving postcode for station: nan with lat: 37.3380805  and lon: -121.88574399999999\n",
      "Having trouble retriving postcode for station: nan with lat: 37.3380915  and lon: -121.88626200000002\n",
      "Having trouble retriving postcode for station: nan with lat: 37.338333  and lon: -121.8856663333\n",
      "Having trouble retriving postcode for station: nan with lat: 37.3377576667  and lon: -121.8853223333\n",
      "Having trouble retriving postcode for station: nan with lat: 37.338429  and lon: -121.885333\n",
      "Having trouble retriving postcode for station: nan with lat: 37.337659333299996  and lon: -121.8856033333\n",
      "Having trouble retriving postcode for station: nan with lat: 37.3385138333  and lon: -121.8853333333\n",
      "Having trouble retriving postcode for station: nan with lat: 37.338570000000004  and lon: -121.88532\n",
      "Having trouble retriving postcode for station: nan with lat: 37.337646500000005  and lon: -121.8854713333\n",
      "Having trouble retriving postcode for station: nan with lat: 37.3380201667  and lon: -121.8858011667\n",
      "Having trouble retriving postcode for station: nan with lat: 37.3383375  and lon: -121.8853471667\n",
      "Having trouble retriving postcode for station: nan with lat: 37.3375253333  and lon: -121.8857921667\n",
      "Having trouble retriving postcode for station: nan with lat: 37.3377935  and lon: -121.8854538333\n",
      "Having trouble retriving postcode for station: nan with lat: 37.3378145  and lon: -121.8856045\n",
      "Having trouble retriving postcode for station: nan with lat: 37.3374166667  and lon: -121.8871376667\n",
      "Having trouble retriving postcode for station: nan with lat: 37.338035999999995  and lon: -121.88575900000001\n",
      "Having trouble retriving postcode for station: nan with lat: 37.3377256667  and lon: -121.8853626667\n",
      "Having trouble retriving postcode for station: nan with lat: 37.3377591667  and lon: -121.8854246667\n",
      "time: 2354.04 s\n"
     ]
    }
   ],
   "source": [
    "# filenames = [\"201801-fordgobike-tripdata.csv\", \"201802-fordgobike-tripdata.csv\",\\\n",
    "#              \"201803-fordgobike-tripdata.csv\", \"201804-fordgobike-tripdata.csv\",\\\n",
    "#              \"201805-fordgobike-tripdata.csv\", \"201806-fordgobike-tripdata.csv\",\\\n",
    "#              \"201807-fordgobike-tripdata.csv\", \"201808-fordgobike-tripdata.csv\",\\\n",
    "#              \"201809-fordgobike-tripdata.csv\", \"201810-fordgobike-tripdata.csv\",\\\n",
    "#              \"201811-fordgobike-tripdata.csv\", \"201812-fordgobike-tripdata.csv\",\\\n",
    "#              \"201901-fordgobike-tripdata.csv\", \"201902-fordgobike-tripdata.csv\",\\\n",
    "#              \"201903-fordgobike-tripdata.csv\", \"201904-fordgobike-tripdata.csv\",\\\n",
    "#              \"201905-fordgobike-tripdata.csv\", \"201906-fordgobike-tripdata.csv\"]\n",
    "\n",
    "filenames = [\"201905-baywheels-tripdata.csv\", \"201906-baywheels-tripdata.csv\"]\n",
    "\n",
    "for filename in filenames:\n",
    "    tic = time.time()\n",
    "\n",
    "    bike_raw_data = pd.read_csv(filename)\n",
    "    df = pd.DataFrame(columns=['zipcode', 'datetime', 'change', 'rental'])\n",
    "    df = process_bike_data(bike_raw_data, df)\n",
    "\n",
    "    df.to_csv(\"lyft_data.csv\", mode='a', header=False)\n",
    "\n",
    "    toc = time.time()\n",
    "    \n",
    "    print('time:', round(toc-tic, 2),'s')\n",
    "    "
   ]
  },
  {
   "cell_type": "code",
   "execution_count": 22,
   "metadata": {},
   "outputs": [
    {
     "name": "stdout",
     "output_type": "stream",
     "text": [
      "<class 'pandas.core.frame.DataFrame'>\n",
      "RangeIndex: 452571 entries, 0 to 452570\n",
      "Data columns (total 5 columns):\n",
      " #   Column         Non-Null Count   Dtype \n",
      "---  ------         --------------   ----- \n",
      " 0   0              452571 non-null  int64 \n",
      " 1   94114          452571 non-null  object\n",
      " 2   2018-01-31_22  452571 non-null  object\n",
      " 3   -1             452571 non-null  int64 \n",
      " 4   4              452571 non-null  int64 \n",
      "dtypes: int64(3), object(2)\n",
      "memory usage: 17.3+ MB\n",
      "<class 'pandas.core.frame.DataFrame'>\n",
      "Int64Index: 452571 entries, 0 to 452570\n",
      "Data columns (total 5 columns):\n",
      " #   Column         Non-Null Count   Dtype \n",
      "---  ------         --------------   ----- \n",
      " 0   0              452571 non-null  int64 \n",
      " 1   94114          452571 non-null  object\n",
      " 2   2018-01-31_22  452571 non-null  object\n",
      " 3   -1             452571 non-null  int64 \n",
      " 4   4              452571 non-null  int64 \n",
      "dtypes: int64(3), object(2)\n",
      "memory usage: 20.7+ MB\n"
     ]
    },
    {
     "name": "stderr",
     "output_type": "stream",
     "text": [
      "/Users/xingchen/opt/anaconda3/lib/python3.8/site-packages/IPython/core/interactiveshell.py:3146: DtypeWarning: Columns (1) have mixed types.Specify dtype option on import or set low_memory=False.\n",
      "  has_raised = await self.run_ast_nodes(code_ast.body, cell_name,\n"
     ]
    }
   ],
   "source": [
    "lyft_data = pd.read_csv(\"lyft_data.csv\")\n",
    "lyft_data.info()\n"
   ]
  },
  {
   "cell_type": "code",
   "execution_count": 28,
   "metadata": {},
   "outputs": [
    {
     "data": {
      "text/html": [
       "<div>\n",
       "<style scoped>\n",
       "    .dataframe tbody tr th:only-of-type {\n",
       "        vertical-align: middle;\n",
       "    }\n",
       "\n",
       "    .dataframe tbody tr th {\n",
       "        vertical-align: top;\n",
       "    }\n",
       "\n",
       "    .dataframe thead th {\n",
       "        text-align: right;\n",
       "    }\n",
       "</style>\n",
       "<table border=\"1\" class=\"dataframe\">\n",
       "  <thead>\n",
       "    <tr style=\"text-align: right;\">\n",
       "      <th></th>\n",
       "      <th>zipcode</th>\n",
       "      <th>datetime</th>\n",
       "      <th>change</th>\n",
       "    </tr>\n",
       "  </thead>\n",
       "  <tbody>\n",
       "    <tr>\n",
       "      <th>0</th>\n",
       "      <td>94612</td>\n",
       "      <td>2018-12-31_20</td>\n",
       "      <td>2</td>\n",
       "    </tr>\n",
       "    <tr>\n",
       "      <th>1</th>\n",
       "      <td>94612</td>\n",
       "      <td>2019-01-01_15</td>\n",
       "      <td>1</td>\n",
       "    </tr>\n",
       "    <tr>\n",
       "      <th>2</th>\n",
       "      <td>94612</td>\n",
       "      <td>2018-12-31_23</td>\n",
       "      <td>0</td>\n",
       "    </tr>\n",
       "    <tr>\n",
       "      <th>3</th>\n",
       "      <td>94612</td>\n",
       "      <td>2018-12-31_22</td>\n",
       "      <td>-2</td>\n",
       "    </tr>\n",
       "    <tr>\n",
       "      <th>4</th>\n",
       "      <td>94612</td>\n",
       "      <td>2018-12-31_21</td>\n",
       "      <td>-1</td>\n",
       "    </tr>\n",
       "  </tbody>\n",
       "</table>\n",
       "</div>"
      ],
      "text/plain": [
       "  zipcode       datetime change\n",
       "0   94612  2018-12-31_20      2\n",
       "1   94612  2019-01-01_15      1\n",
       "2   94612  2018-12-31_23      0\n",
       "3   94612  2018-12-31_22     -2\n",
       "4   94612  2018-12-31_21     -1"
      ]
     },
     "execution_count": 28,
     "metadata": {},
     "output_type": "execute_result"
    }
   ],
   "source": [
    "df.head()"
   ]
  },
  {
   "cell_type": "code",
   "execution_count": 29,
   "metadata": {},
   "outputs": [],
   "source": [
    "muni_data = pd.read_csv(\"muni_data_clean.csv\")\n",
    "weather_data = pd.read_csv(\"weather_data.csv\")\n",
    "parking_data = pd.read_csv(\"park_data_cleaned.csv\")\n"
   ]
  },
  {
   "cell_type": "code",
   "execution_count": 30,
   "metadata": {},
   "outputs": [
    {
     "data": {
      "text/html": [
       "<div>\n",
       "<style scoped>\n",
       "    .dataframe tbody tr th:only-of-type {\n",
       "        vertical-align: middle;\n",
       "    }\n",
       "\n",
       "    .dataframe tbody tr th {\n",
       "        vertical-align: top;\n",
       "    }\n",
       "\n",
       "    .dataframe thead th {\n",
       "        text-align: right;\n",
       "    }\n",
       "</style>\n",
       "<table border=\"1\" class=\"dataframe\">\n",
       "  <thead>\n",
       "    <tr style=\"text-align: right;\">\n",
       "      <th></th>\n",
       "      <th>Unnamed: 0</th>\n",
       "      <th>STOPNAME</th>\n",
       "      <th>STOPID</th>\n",
       "      <th>LATITUDE</th>\n",
       "      <th>LONGITUDE</th>\n",
       "      <th>ATSTREET</th>\n",
       "      <th>Neighborhoods</th>\n",
       "      <th>ORIENTATION</th>\n",
       "      <th>POSITION</th>\n",
       "    </tr>\n",
       "  </thead>\n",
       "  <tbody>\n",
       "    <tr>\n",
       "      <th>0</th>\n",
       "      <td>0</td>\n",
       "      <td>Palou Ave&amp;Hawes St E-NS/PS</td>\n",
       "      <td>5866</td>\n",
       "      <td>37.728679</td>\n",
       "      <td>-122.381425</td>\n",
       "      <td>HAWES ST</td>\n",
       "      <td>78.0</td>\n",
       "      <td>E</td>\n",
       "      <td>NS</td>\n",
       "    </tr>\n",
       "    <tr>\n",
       "      <th>1</th>\n",
       "      <td>1</td>\n",
       "      <td>California St&amp;Leavenworth St NE-NS</td>\n",
       "      <td>3877</td>\n",
       "      <td>37.791285</td>\n",
       "      <td>-122.415611</td>\n",
       "      <td>LEAVENWORTH ST</td>\n",
       "      <td>16.0</td>\n",
       "      <td>NE</td>\n",
       "      <td>NS</td>\n",
       "    </tr>\n",
       "    <tr>\n",
       "      <th>2</th>\n",
       "      <td>2</td>\n",
       "      <td>Carmel St&amp;Belvedere St SW-MI/SB</td>\n",
       "      <td>4204</td>\n",
       "      <td>37.760920</td>\n",
       "      <td>-122.447631</td>\n",
       "      <td>BELVEDERE ST</td>\n",
       "      <td>114.0</td>\n",
       "      <td>SW</td>\n",
       "      <td>MI</td>\n",
       "    </tr>\n",
       "    <tr>\n",
       "      <th>3</th>\n",
       "      <td>3</td>\n",
       "      <td>Beach St&amp;Mason St SW-NS/PS</td>\n",
       "      <td>3092</td>\n",
       "      <td>37.807407</td>\n",
       "      <td>-122.414125</td>\n",
       "      <td>MASON ST</td>\n",
       "      <td>99.0</td>\n",
       "      <td>SW</td>\n",
       "      <td>NS</td>\n",
       "    </tr>\n",
       "    <tr>\n",
       "      <th>4</th>\n",
       "      <td>4</td>\n",
       "      <td>Paul Ave&amp;San Bruno Ave N-MB/SB</td>\n",
       "      <td>5904</td>\n",
       "      <td>37.723879</td>\n",
       "      <td>-122.401576</td>\n",
       "      <td>SAN BRUNO AVE</td>\n",
       "      <td>91.0</td>\n",
       "      <td>N</td>\n",
       "      <td>MB</td>\n",
       "    </tr>\n",
       "  </tbody>\n",
       "</table>\n",
       "</div>"
      ],
      "text/plain": [
       "   Unnamed: 0                            STOPNAME  STOPID   LATITUDE  \\\n",
       "0           0          Palou Ave&Hawes St E-NS/PS    5866  37.728679   \n",
       "1           1  California St&Leavenworth St NE-NS    3877  37.791285   \n",
       "2           2     Carmel St&Belvedere St SW-MI/SB    4204  37.760920   \n",
       "3           3          Beach St&Mason St SW-NS/PS    3092  37.807407   \n",
       "4           4      Paul Ave&San Bruno Ave N-MB/SB    5904  37.723879   \n",
       "\n",
       "    LONGITUDE        ATSTREET  Neighborhoods ORIENTATION POSITION  \n",
       "0 -122.381425        HAWES ST           78.0           E       NS  \n",
       "1 -122.415611  LEAVENWORTH ST           16.0          NE       NS  \n",
       "2 -122.447631    BELVEDERE ST          114.0          SW       MI  \n",
       "3 -122.414125        MASON ST           99.0          SW       NS  \n",
       "4 -122.401576   SAN BRUNO AVE           91.0           N       MB  "
      ]
     },
     "execution_count": 30,
     "metadata": {},
     "output_type": "execute_result"
    }
   ],
   "source": []
  },
  {
   "cell_type": "code",
   "execution_count": 53,
   "metadata": {},
   "outputs": [
    {
     "name": "stdout",
     "output_type": "stream",
     "text": [
      "Having trouble retriving postcode for station: with lat: 37.83238  and lon: -122.53867\n"
     ]
    },
    {
     "ename": "ValueError",
     "evalue": "Length of values (3489) does not match length of index (3490)",
     "output_type": "error",
     "traceback": [
      "\u001b[0;31m---------------------------------------------------------------------------\u001b[0m",
      "\u001b[0;31mValueError\u001b[0m                                Traceback (most recent call last)",
      "\u001b[0;32m<ipython-input-53-bc12338d9d71>\u001b[0m in \u001b[0;36m<module>\u001b[0;34m\u001b[0m\n\u001b[1;32m     11\u001b[0m \u001b[0;34m\u001b[0m\u001b[0m\n\u001b[1;32m     12\u001b[0m \u001b[0;34m\u001b[0m\u001b[0m\n\u001b[0;32m---> 13\u001b[0;31m \u001b[0mmuni_data\u001b[0m\u001b[0;34m[\u001b[0m\u001b[0;34m'zipcode'\u001b[0m\u001b[0;34m]\u001b[0m \u001b[0;34m=\u001b[0m \u001b[0mmuni_zipcode\u001b[0m\u001b[0;34m\u001b[0m\u001b[0;34m\u001b[0m\u001b[0m\n\u001b[0m",
      "\u001b[0;32m~/opt/anaconda3/lib/python3.8/site-packages/pandas/core/frame.py\u001b[0m in \u001b[0;36m__setitem__\u001b[0;34m(self, key, value)\u001b[0m\n\u001b[1;32m   3038\u001b[0m         \u001b[0;32melse\u001b[0m\u001b[0;34m:\u001b[0m\u001b[0;34m\u001b[0m\u001b[0;34m\u001b[0m\u001b[0m\n\u001b[1;32m   3039\u001b[0m             \u001b[0;31m# set column\u001b[0m\u001b[0;34m\u001b[0m\u001b[0;34m\u001b[0m\u001b[0;34m\u001b[0m\u001b[0m\n\u001b[0;32m-> 3040\u001b[0;31m             \u001b[0mself\u001b[0m\u001b[0;34m.\u001b[0m\u001b[0m_set_item\u001b[0m\u001b[0;34m(\u001b[0m\u001b[0mkey\u001b[0m\u001b[0;34m,\u001b[0m \u001b[0mvalue\u001b[0m\u001b[0;34m)\u001b[0m\u001b[0;34m\u001b[0m\u001b[0;34m\u001b[0m\u001b[0m\n\u001b[0m\u001b[1;32m   3041\u001b[0m \u001b[0;34m\u001b[0m\u001b[0m\n\u001b[1;32m   3042\u001b[0m     \u001b[0;32mdef\u001b[0m \u001b[0m_setitem_slice\u001b[0m\u001b[0;34m(\u001b[0m\u001b[0mself\u001b[0m\u001b[0;34m,\u001b[0m \u001b[0mkey\u001b[0m\u001b[0;34m:\u001b[0m \u001b[0mslice\u001b[0m\u001b[0;34m,\u001b[0m \u001b[0mvalue\u001b[0m\u001b[0;34m)\u001b[0m\u001b[0;34m:\u001b[0m\u001b[0;34m\u001b[0m\u001b[0;34m\u001b[0m\u001b[0m\n",
      "\u001b[0;32m~/opt/anaconda3/lib/python3.8/site-packages/pandas/core/frame.py\u001b[0m in \u001b[0;36m_set_item\u001b[0;34m(self, key, value)\u001b[0m\n\u001b[1;32m   3114\u001b[0m         \"\"\"\n\u001b[1;32m   3115\u001b[0m         \u001b[0mself\u001b[0m\u001b[0;34m.\u001b[0m\u001b[0m_ensure_valid_index\u001b[0m\u001b[0;34m(\u001b[0m\u001b[0mvalue\u001b[0m\u001b[0;34m)\u001b[0m\u001b[0;34m\u001b[0m\u001b[0;34m\u001b[0m\u001b[0m\n\u001b[0;32m-> 3116\u001b[0;31m         \u001b[0mvalue\u001b[0m \u001b[0;34m=\u001b[0m \u001b[0mself\u001b[0m\u001b[0;34m.\u001b[0m\u001b[0m_sanitize_column\u001b[0m\u001b[0;34m(\u001b[0m\u001b[0mkey\u001b[0m\u001b[0;34m,\u001b[0m \u001b[0mvalue\u001b[0m\u001b[0;34m)\u001b[0m\u001b[0;34m\u001b[0m\u001b[0;34m\u001b[0m\u001b[0m\n\u001b[0m\u001b[1;32m   3117\u001b[0m         \u001b[0mNDFrame\u001b[0m\u001b[0;34m.\u001b[0m\u001b[0m_set_item\u001b[0m\u001b[0;34m(\u001b[0m\u001b[0mself\u001b[0m\u001b[0;34m,\u001b[0m \u001b[0mkey\u001b[0m\u001b[0;34m,\u001b[0m \u001b[0mvalue\u001b[0m\u001b[0;34m)\u001b[0m\u001b[0;34m\u001b[0m\u001b[0;34m\u001b[0m\u001b[0m\n\u001b[1;32m   3118\u001b[0m \u001b[0;34m\u001b[0m\u001b[0m\n",
      "\u001b[0;32m~/opt/anaconda3/lib/python3.8/site-packages/pandas/core/frame.py\u001b[0m in \u001b[0;36m_sanitize_column\u001b[0;34m(self, key, value, broadcast)\u001b[0m\n\u001b[1;32m   3762\u001b[0m \u001b[0;34m\u001b[0m\u001b[0m\n\u001b[1;32m   3763\u001b[0m             \u001b[0;31m# turn me into an ndarray\u001b[0m\u001b[0;34m\u001b[0m\u001b[0;34m\u001b[0m\u001b[0;34m\u001b[0m\u001b[0m\n\u001b[0;32m-> 3764\u001b[0;31m             \u001b[0mvalue\u001b[0m \u001b[0;34m=\u001b[0m \u001b[0msanitize_index\u001b[0m\u001b[0;34m(\u001b[0m\u001b[0mvalue\u001b[0m\u001b[0;34m,\u001b[0m \u001b[0mself\u001b[0m\u001b[0;34m.\u001b[0m\u001b[0mindex\u001b[0m\u001b[0;34m)\u001b[0m\u001b[0;34m\u001b[0m\u001b[0;34m\u001b[0m\u001b[0m\n\u001b[0m\u001b[1;32m   3765\u001b[0m             \u001b[0;32mif\u001b[0m \u001b[0;32mnot\u001b[0m \u001b[0misinstance\u001b[0m\u001b[0;34m(\u001b[0m\u001b[0mvalue\u001b[0m\u001b[0;34m,\u001b[0m \u001b[0;34m(\u001b[0m\u001b[0mnp\u001b[0m\u001b[0;34m.\u001b[0m\u001b[0mndarray\u001b[0m\u001b[0;34m,\u001b[0m \u001b[0mIndex\u001b[0m\u001b[0;34m)\u001b[0m\u001b[0;34m)\u001b[0m\u001b[0;34m:\u001b[0m\u001b[0;34m\u001b[0m\u001b[0;34m\u001b[0m\u001b[0m\n\u001b[1;32m   3766\u001b[0m                 \u001b[0;32mif\u001b[0m \u001b[0misinstance\u001b[0m\u001b[0;34m(\u001b[0m\u001b[0mvalue\u001b[0m\u001b[0;34m,\u001b[0m \u001b[0mlist\u001b[0m\u001b[0;34m)\u001b[0m \u001b[0;32mand\u001b[0m \u001b[0mlen\u001b[0m\u001b[0;34m(\u001b[0m\u001b[0mvalue\u001b[0m\u001b[0;34m)\u001b[0m \u001b[0;34m>\u001b[0m \u001b[0;36m0\u001b[0m\u001b[0;34m:\u001b[0m\u001b[0;34m\u001b[0m\u001b[0;34m\u001b[0m\u001b[0m\n",
      "\u001b[0;32m~/opt/anaconda3/lib/python3.8/site-packages/pandas/core/internals/construction.py\u001b[0m in \u001b[0;36msanitize_index\u001b[0;34m(data, index)\u001b[0m\n\u001b[1;32m    745\u001b[0m     \"\"\"\n\u001b[1;32m    746\u001b[0m     \u001b[0;32mif\u001b[0m \u001b[0mlen\u001b[0m\u001b[0;34m(\u001b[0m\u001b[0mdata\u001b[0m\u001b[0;34m)\u001b[0m \u001b[0;34m!=\u001b[0m \u001b[0mlen\u001b[0m\u001b[0;34m(\u001b[0m\u001b[0mindex\u001b[0m\u001b[0;34m)\u001b[0m\u001b[0;34m:\u001b[0m\u001b[0;34m\u001b[0m\u001b[0;34m\u001b[0m\u001b[0m\n\u001b[0;32m--> 747\u001b[0;31m         raise ValueError(\n\u001b[0m\u001b[1;32m    748\u001b[0m             \u001b[0;34m\"Length of values \"\u001b[0m\u001b[0;34m\u001b[0m\u001b[0;34m\u001b[0m\u001b[0m\n\u001b[1;32m    749\u001b[0m             \u001b[0;34mf\"({len(data)}) \"\u001b[0m\u001b[0;34m\u001b[0m\u001b[0;34m\u001b[0m\u001b[0m\n",
      "\u001b[0;31mValueError\u001b[0m: Length of values (3489) does not match length of index (3490)"
     ]
    }
   ],
   "source": [
    "muni_zipcode = []\n",
    " \n",
    "for idx, muni in muni_data.iterrows():\n",
    "    lat = muni[\"LATITUDE\"]\n",
    "    lon = muni[\"LONGITUDE\"]\n",
    "    try:\n",
    "        zipcode = geolocator.reverse((lat, lon)).raw['address']['postcode'][:5]\n",
    "        muni_zipcode.append(zipcode)\n",
    "    except:\n",
    "        print(\"Having trouble retriving postcode for station:\", \"with lat:\", lat, \" and lon:\", lon)\n",
    "        \n",
    "\n",
    "muni_data['zipcode'] = muni_zipcode"
   ]
  },
  {
   "cell_type": "code",
   "execution_count": 57,
   "metadata": {},
   "outputs": [],
   "source": [
    "muni_data['zipcode'] = muni_zipcode"
   ]
  },
  {
   "cell_type": "code",
   "execution_count": 60,
   "metadata": {},
   "outputs": [],
   "source": [
    "muni_data.to_csv(\"muni_data_cleaned.csv\")"
   ]
  },
  {
   "cell_type": "code",
   "execution_count": null,
   "metadata": {},
   "outputs": [],
   "source": [
    "# clean weather data again\n",
    "weather_data"
   ]
  },
  {
   "cell_type": "code",
   "execution_count": null,
   "metadata": {},
   "outputs": [],
   "source": []
  }
 ],
 "metadata": {
  "kernelspec": {
   "display_name": "Python 3",
   "language": "python",
   "name": "python3"
  },
  "language_info": {
   "codemirror_mode": {
    "name": "ipython",
    "version": 3
   },
   "file_extension": ".py",
   "mimetype": "text/x-python",
   "name": "python",
   "nbconvert_exporter": "python",
   "pygments_lexer": "ipython3",
   "version": "3.8.5"
  }
 },
 "nbformat": 4,
 "nbformat_minor": 4
}
